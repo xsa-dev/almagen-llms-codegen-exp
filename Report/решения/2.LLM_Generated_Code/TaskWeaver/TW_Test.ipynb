{
 "cells": [
  {
   "cell_type": "markdown",
   "metadata": {},
   "source": [
    "# Сверим результаты:"
   ]
  },
  {
   "cell_type": "markdown",
   "metadata": {},
   "source": [
    "## Загрузим обученную модель"
   ]
  },
  {
   "cell_type": "code",
   "execution_count": 8,
   "metadata": {},
   "outputs": [
    {
     "name": "stdout",
     "output_type": "stream",
     "text": [
      "RandomForestClassifier(max_depth=10, min_samples_split=5, n_estimators=200,\n",
      "                       random_state=42)\n"
     ]
    }
   ],
   "source": [
    "from joblib import load\n",
    "\n",
    "# Загрузка модели из файла\n",
    "model = load('models/trained_classification_model.joblib')\n",
    "\n",
    "# Посмотреть информацию о модели\n",
    "print(model)"
   ]
  },
  {
   "cell_type": "markdown",
   "metadata": {},
   "source": [
    "## Получим используемые метрики"
   ]
  },
  {
   "cell_type": "code",
   "execution_count": 2,
   "metadata": {},
   "outputs": [],
   "source": [
    "import pandas as pd"
   ]
  },
  {
   "cell_type": "code",
   "execution_count": 3,
   "metadata": {},
   "outputs": [],
   "source": [
    "features_file_path = '../autogen_studio/data/X.csv'\n",
    "features_df = pd.read_csv(features_file_path)\n",
    "\n",
    "# Load the label data\n",
    "labels_file_path = '../autogen_studio/data/y.csv'\n",
    "labels_df = pd.read_csv(labels_file_path)\n",
    "\n",
    "numerical_columns = features_df.select_dtypes(include=['number']).columns\n",
    "features_df[numerical_columns] = features_df[numerical_columns].fillna(features_df[numerical_columns].mean())"
   ]
  },
  {
   "cell_type": "code",
   "execution_count": 11,
   "metadata": {},
   "outputs": [
    {
     "data": {
      "text/plain": [
       "(        reg_time  fc_imp_chk  fc_time_chk  utmtr  mm_dma  osName  model  \\\n",
       " 151656     94224           0            7      1     505      10   1447   \n",
       " 837875    558896           4            6      6     524      10   1447   \n",
       " 152405     94701           0            7      1     556       0   1140   \n",
       " 777623    517617           0            7      6     544      10   1447   \n",
       " 426226    280409           0            7      0     698      10   1447   \n",
       " ...          ...         ...          ...    ...     ...     ...    ...   \n",
       " 259178    168766           0            7      0     524       0    841   \n",
       " 365838    239259           0            7      0     691      10   1447   \n",
       " 131932     83460           0            7      0     524       0    718   \n",
       " 671155    443616           0            7      6     609      10   1447   \n",
       " 121958     77240           0            7      7     659       0    720   \n",
       " \n",
       "         hardware  site_id  \n",
       " 151656         4     9669  \n",
       " 837875         4     6037  \n",
       " 152405         4     3372  \n",
       " 777623         4     6037  \n",
       " 426226         4     9045  \n",
       " ...          ...      ...  \n",
       " 259178         4     3820  \n",
       " 365838         4     1830  \n",
       " 131932         4     3820  \n",
       " 671155         4    11094  \n",
       " 121958         4     3820  \n",
       " \n",
       " [768788 rows x 9 columns],\n",
       "         reg_time  fc_imp_chk  fc_time_chk  utmtr  mm_dma  osName  model  \\\n",
       " 360366    235818           0            7      5     560       0    483   \n",
       " 705456    467157           0            7      3     509      10   1447   \n",
       " 182870    116713           0            7      6     504      10   1469   \n",
       " 388420    254955           0            7      4     561      10   1447   \n",
       " 655680    433522           0            7      5     524       0   1205   \n",
       " ...          ...         ...          ...    ...     ...     ...    ...   \n",
       " 514668    338859           0            7      3     518      10   1447   \n",
       " 688243    454744           0            7      1     609      10   1447   \n",
       " 646384    427494           0            7      4     501      10   1447   \n",
       " 754231    501302           0            7      2     640      10   1447   \n",
       " 326179    212895           0            7      0     570      10   1447   \n",
       " \n",
       "         hardware  site_id  \n",
       " 360366         4     1830  \n",
       " 705456         4    10886  \n",
       " 182870         4     3296  \n",
       " 388420         4     4211  \n",
       " 655680         4     4036  \n",
       " ...          ...      ...  \n",
       " 514668         4    10711  \n",
       " 688243         4    10073  \n",
       " 646384         4     1696  \n",
       " 754231         4     8669  \n",
       " 326179         4     9849  \n",
       " \n",
       " [192197 rows x 9 columns],\n",
       "         is_fclick\n",
       " 151656          0\n",
       " 837875          0\n",
       " 152405          0\n",
       " 777623          0\n",
       " 426226          0\n",
       " ...           ...\n",
       " 259178          0\n",
       " 365838          0\n",
       " 131932          0\n",
       " 671155          0\n",
       " 121958          0\n",
       " \n",
       " [768788 rows x 1 columns],\n",
       "         is_fclick\n",
       " 360366          0\n",
       " 705456          0\n",
       " 182870          0\n",
       " 388420          0\n",
       " 655680          0\n",
       " ...           ...\n",
       " 514668          0\n",
       " 688243          0\n",
       " 646384          0\n",
       " 754231          0\n",
       " 326179          0\n",
       " \n",
       " [192197 rows x 1 columns])"
      ]
     },
     "execution_count": 11,
     "metadata": {},
     "output_type": "execute_result"
    }
   ],
   "source": [
    "from sklearn.model_selection import train_test_split\n",
    "from sklearn.preprocessing import LabelEncoder\n",
    "\n",
    "# Handle missing values\n",
    "# Fill missing values for numerical columns with the mean\n",
    "numerical_columns = features_df.select_dtypes(include=['number']).columns\n",
    "features_df[numerical_columns] = features_df[numerical_columns].fillna(features_df[numerical_columns].mean())\n",
    "\n",
    "# Fill missing values for categorical columns with the mode\n",
    "for column in features_df.select_dtypes(include=['object']).columns:\n",
    "    features_df[column] = features_df[column].fillna(features_df[column].mode()[0])\n",
    "\n",
    "# Encode categorical features\n",
    "label_encoders = {}\n",
    "for column in features_df.select_dtypes(include=['object']).columns:\n",
    "    label_encoders[column] = LabelEncoder()\n",
    "    features_df[column] = label_encoders[column].fit_transform(features_df[column])\n",
    "\n",
    "# Split the data into training and test sets\n",
    "X_train, X_test, y_train, y_test = train_test_split(features_df, labels_df, test_size=0.2, random_state=42)\n",
    "\n",
    "X_train, X_test, y_train, y_test"
   ]
  },
  {
   "cell_type": "code",
   "execution_count": 12,
   "metadata": {},
   "outputs": [],
   "source": [
    "from sklearn.metrics import classification_report\n",
    "\n",
    "predictions = model.predict(X_test)\n",
    "report = classification_report(y_test, predictions)"
   ]
  },
  {
   "cell_type": "code",
   "execution_count": 13,
   "metadata": {},
   "outputs": [
    {
     "name": "stdout",
     "output_type": "stream",
     "text": [
      "              precision    recall  f1-score   support\n",
      "\n",
      "           0       1.00      1.00      1.00    191426\n",
      "           1       0.61      0.01      0.03       771\n",
      "\n",
      "    accuracy                           1.00    192197\n",
      "   macro avg       0.80      0.51      0.51    192197\n",
      "weighted avg       0.99      1.00      0.99    192197\n",
      "\n"
     ]
    }
   ],
   "source": [
    "print(report)"
   ]
  },
  {
   "cell_type": "markdown",
   "metadata": {},
   "source": [
    "## Вывод\n",
    "Модель показывает отличную точность при классификации объектов класса 0, но её результаты для класса 1 оставляют желать лучшего. Детальный анализ метрик выявил следующее:\n",
    "- Точность для класса 0 равна 1.00, но для класса 1 всего 0.61, что означает правильное предсказание только в 61% случаев.\n",
    "- Полнота для класса 0 также идеальна (1.00), но для класса 1 крайне низка - всего 0.01, указывая на обнаружение лишь 1% реальных случаев.\n",
    "- F1-score для класса 0 идеальна (1.00), но для класса 1 низка (0.03), указывая на низкое качество классификации.\n",
    "- Общая точность 1.00 маскирует дисбаланс классов; модель, всегда предсказывающая класс 0, также имеет высокую общую точность.\n",
    "- Macro avg и Weighted avg показывают средние значения, но макро avg 0.51 говорит о слабой средней производительности модели.\n",
    "В общем, модель неэффективна при работе с классом 1 и требует доработки. Возможные шаги включают перебалансировку классов, изменение порога классификации, применение техник улучшения для несбалансированных данных и анализ ошибок для коррекции предобработки данных или архитектуры модели."
   ]
  },
  {
   "cell_type": "markdown",
   "metadata": {},
   "source": [
    "### Заключение\n",
    "\n",
    "Извините за недоразумение. Давайте добавим конкретные рекомендации к заключению:\n",
    "\n",
    "Модель демонстрирует эффективность при работе с классом 0, но существенные недостатки в классификации класса 1. Для улучшения её производительности рекомендуется рассмотреть следующие шаги:\n",
    "\n",
    "1. **Перебалансировка данных:**\n",
    "   Учтите дисбаланс классов, увеличив количество примеров класса 1 в обучающем наборе данных.\n",
    "\n",
    "2. **Изменение порога классификации:**\n",
    "   Экспериментируйте с порогом классификации, чтобы балансировать точность и полноту в зависимости от потребностей вашей задачи.\n",
    "\n",
    "3. **Применение техник улучшения:**\n",
    "   Рассмотрите взвешивание классов, использование других метрик, таких как AUC-ROC, или применение техник обработки несбалансированных данных.\n",
    "\n",
    "4. **Анализ ошибок:**\n",
    "   Проведите дополнительный анализ ошибок, чтобы понять, почему модель плохо справляется с классом 1. Это может включать в себя коррекцию процесса предобработки данных или архитектуры модели.\n",
    "\n",
    "Эти шаги должны помочь улучшить производительность модели, особенно в отношении класса 1, и сделать её более устойчивой к различным данным."
   ]
  }
 ],
 "metadata": {
  "kernelspec": {
   "display_name": "ag",
   "language": "python",
   "name": "python3"
  },
  "language_info": {
   "codemirror_mode": {
    "name": "ipython",
    "version": 3
   },
   "file_extension": ".py",
   "mimetype": "text/x-python",
   "name": "python",
   "nbconvert_exporter": "python",
   "pygments_lexer": "ipython3",
   "version": "3.11.7"
  }
 },
 "nbformat": 4,
 "nbformat_minor": 2
}
