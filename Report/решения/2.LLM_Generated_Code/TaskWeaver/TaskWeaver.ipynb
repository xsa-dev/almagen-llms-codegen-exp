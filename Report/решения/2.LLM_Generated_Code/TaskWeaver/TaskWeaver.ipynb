{
 "cells": [
  {
   "cell_type": "markdown",
   "id": "324d273021a1b66c",
   "metadata": {
    "collapsed": false
   },
   "source": [
    "# Решение - TaskWeaver"
   ]
  },
  {
   "cell_type": "markdown",
   "id": "6343f357",
   "metadata": {},
   "source": [
    "Информация собранв из логов. Проверка, вывод и заключение в этом [ноутбуке](TW_Test.ipynb)"
   ]
  },
  {
   "cell_type": "code",
   "execution_count": null,
   "id": "dbea4b2ed9a4c1e5",
   "metadata": {
    "collapsed": false
   },
   "outputs": [],
   "source": [
    "from sklearn.preprocessing import LabelEncoder\n",
    "\n",
    "# Handle missing values\n",
    "# Fill missing values for numerical columns with the mean\n",
    "numerical_columns = features_df.select_dtypes(include=['number']).columns\n",
    "features_df[numerical_columns] = features_df[numerical_columns].fillna(features_df[numerical_columns].mean())\n",
    "\n",
    "# Fill missing values for categorical columns with the mode\n",
    "for column in features_df.select_dtypes(include=['object']).columns:\n",
    "    features_df[column] = features_df[column].fillna(features_df[column].mode()[0])\n",
    "\n",
    "# Encode categorical features\n",
    "label_encoders = {}\n",
    "for column in features_df.select_dtypes(include=['object']).columns:\n",
    "    label_encoders[column] = LabelEncoder()\n",
    "    features_df[column] = label_encoders[column].fit_transform(features_df[column])\n",
    "\n",
    "# Split the data into training and test sets\n",
    "X_train, X_test, y_train, y_test = train_test_split(features_df, labels_df, test_size=0.2, random_state=42)\n",
    "\n",
    "X_train, X_test, y_train, y_test"
   ]
  },
  {
   "cell_type": "code",
   "execution_count": null,
   "id": "30448dbd0a7a6689",
   "metadata": {
    "collapsed": false
   },
   "outputs": [],
   "source": [
    "from sklearn.preprocessing import LabelEncoder\n",
    "\n",
    "# Handle missing values\n",
    "# Fill missing values for numerical columns with the mean\n",
    "numerical_columns = features_df.select_dtypes(include=['number']).columns\n",
    "features_df[numerical_columns] = features_df[numerical_columns].fillna(features_df[numerical_columns].mean())\n",
    "\n",
    "# Fill missing values for categorical columns with the mode\n",
    "for column in features_df.select_dtypes(include=['object']).columns:\n",
    "    features_df[column] = features_df[column].fillna(features_df[column].mode()[0])\n",
    "\n",
    "# Encode categorical features\n",
    "label_encoders = {}\n",
    "for column in features_df.select_dtypes(include=['object']).columns:\n",
    "    label_encoders[column] = LabelEncoder()\n",
    "    features_df[column] = label_encoders[column].fit_transform(features_df[column])\n",
    "\n",
    "# Split the data into training and test sets\n",
    "X_train, X_test, y_train, y_test = train_test_split(features_df, labels_df, test_size=0.2, random_state=42)\n",
    "\n",
    "X_train, X_test, y_train, y_test"
   ]
  },
  {
   "cell_type": "code",
   "execution_count": null,
   "id": "703d31747cbd2ce8",
   "metadata": {
    "collapsed": false
   },
   "outputs": [],
   "source": [
    "from sklearn.model_selection import train_test_split\n",
    "from sklearn.preprocessing import LabelEncoder\n",
    "\n",
    "# Handle missing values\n",
    "# Fill missing values for numerical columns with the mean\n",
    "numerical_columns = features_df.select_dtypes(include=['number']).columns\n",
    "features_df[numerical_columns] = features_df[numerical_columns].fillna(features_df[numerical_columns].mean())\n",
    "\n",
    "# Fill missing values for categorical columns with the mode\n",
    "for column in features_df.select_dtypes(include=['object']).columns:\n",
    "    features_df[column] = features_df[column].fillna(features_df[column].mode()[0])\n",
    "\n",
    "# Encode categorical features\n",
    "label_encoders = {}\n",
    "for column in features_df.select_dtypes(include=['object']).columns:\n",
    "    label_encoders[column] = LabelEncoder()\n",
    "    features_df[column] = label_encoders[column].fit_transform(features_df[column])\n",
    "\n",
    "# Split the data into training and test sets\n",
    "X_train, X_test, y_train, y_test = train_test_split(features_df, labels_df, test_size=0.2, random_state=42)\n",
    "\n",
    "X_train, X_test, y_train, y_test"
   ]
  },
  {
   "cell_type": "code",
   "execution_count": null,
   "id": "2b6435d0eab9e7eb",
   "metadata": {
    "collapsed": false
   },
   "outputs": [],
   "source": [
    "from sklearn.model_selection import GridSearchCV\n",
    "from sklearn.metrics import classification_report\n",
    "\n",
    "# Define the model\n",
    "model = RandomForestClassifier(random_state=42)\n",
    "\n",
    "# Define the parameters for grid search\n",
    "param_grid = {\n",
    "    'n_estimators': [100, 200],\n",
    "    'max_depth': [10, 20],\n",
    "    'min_samples_split': [2, 5]\n",
    "}\n",
    "\n",
    "# Perform grid search with cross-validation\n",
    "grid_search = GridSearchCV(model, param_grid, cv=5, scoring='accuracy', n_jobs=-1)\n",
    "grid_search.fit(X_train, y_train.values.ravel())\n",
    "\n",
    "# Best model after grid search\n",
    "best_model = grid_search.best_estimator_\n",
    "\n",
    "# Predictions and evaluation\n",
    "predictions = best_model.predict(X_test)\n",
    "report = classification_report(y_test, predictions)\n",
    "\n",
    "best_model, report"
   ]
  },
  {
   "cell_type": "code",
   "execution_count": null,
   "id": "6e5dd1925fd69f22",
   "metadata": {
    "collapsed": false
   },
   "outputs": [],
   "source": [
    "from sklearn.ensemble import RandomForestClassifier\n",
    "from sklearn.model_selection import GridSearchCV\n",
    "from sklearn.metrics import classification_report\n",
    "\n",
    "# Define the model\n",
    "model = RandomForestClassifier(random_state=42)\n",
    "\n",
    "# Define the parameters for grid search\n",
    "param_grid = {\n",
    "    'n_estimators': [100, 200],\n",
    "    'max_depth': [10, 20],\n",
    "    'min_samples_split': [2, 5]\n",
    "}\n",
    "\n",
    "# Perform grid search with cross-validation\n",
    "grid_search = GridSearchCV(model, param_grid, cv=5, scoring='accuracy', n_jobs=-1)\n",
    "grid_search.fit(X_train, y_train.values.ravel())\n",
    "\n",
    "# Best model after grid search\n",
    "best_model = grid_search.best_estimator_\n",
    "\n",
    "# Predictions and evaluation\n",
    "predictions = best_model.predict(X_test)\n",
    "report = classification_report(y_test, predictions)\n",
    "\n",
    "best_model, report"
   ]
  },
  {
   "cell_type": "markdown",
   "id": "d445b7bc",
   "metadata": {},
   "source": [
    "## Вывел итоговые метрики и информацию о модели, модель сохранил в формате joblib.\n",
    "[dump](решения/2.LLM_Generated_Code/TaskWeaver/models/trained_classification_model.joblib)"
   ]
  },
  {
   "cell_type": "code",
   "execution_count": null,
   "id": "238efc8c34d41798",
   "metadata": {
    "collapsed": false
   },
   "outputs": [],
   "source": [
    "import joblib\n",
    "\n",
    "# Save the trained model to a file\n",
    "model_filename = 'trained_classification_model.joblib'\n",
    "joblib.dump(best_model, model_filename)\n",
    "\n",
    "# Record the accuracy metrics\n",
    "accuracy_metrics = report\n",
    "\n",
    "model_filename, accuracy_metrics"
   ]
  },
  {
   "cell_type": "markdown",
   "id": "2ce3cc37b680c391",
   "metadata": {
    "collapsed": false
   },
   "source": [
    "## Итоговые метрики"
   ]
  },
  {
   "cell_type": "code",
   "execution_count": null,
   "id": "3a9cab33aa6f1868",
   "metadata": {
    "collapsed": false
   },
   "outputs": [],
   "source": [
    "```\n",
    "precision    recall  f1-score   support\n",
    "\n",
    "0       1.00      1.00      1.00    191426\n",
    "1       0.61      0.01      0.03       771\n",
    "\n",
    "accuracy                           1.00    192197\n",
    "macro avg       0.80      0.51      0.51    192197\n",
    "weighted avg       0.99      1.00      0.99    192197\n",
    "```"
   ]
  }
 ],
 "metadata": {
  "kernelspec": {
   "display_name": "Python 3",
   "language": "python",
   "name": "python3"
  },
  "language_info": {
   "codemirror_mode": {
    "name": "ipython",
    "version": 2
   },
   "file_extension": ".py",
   "mimetype": "text/x-python",
   "name": "python",
   "nbconvert_exporter": "python",
   "pygments_lexer": "ipython2",
   "version": "2.7.6"
  }
 },
 "nbformat": 4,
 "nbformat_minor": 5
}
