{
 "cells": [
  {
   "cell_type": "code",
   "execution_count": 10,
   "id": "8ee96ad08b9505b3",
   "metadata": {
    "ExecuteTime": {
     "end_time": "2024-01-29T19:37:12.712587Z",
     "start_time": "2024-01-29T19:37:12.703616Z"
    },
    "collapsed": false
   },
   "outputs": [],
   "source": [
    "import os\n",
    "os.environ[\"OPENAI_API_KEY\"] = ''"
   ]
  },
  {
   "cell_type": "code",
   "execution_count": 2,
   "id": "71cfd18b95d1e8d",
   "metadata": {
    "ExecuteTime": {
     "end_time": "2024-01-29T19:34:52.709413Z",
     "start_time": "2024-01-29T19:34:48.771149Z"
    },
    "collapsed": false
   },
   "outputs": [
    {
     "name": "stdout",
     "output_type": "stream",
     "text": [
      "Collecting langchain_experimental\r\n",
      "  Downloading langchain_experimental-0.0.49-py3-none-any.whl.metadata (1.9 kB)\r\n",
      "Requirement already satisfied: langchain<0.2,>=0.1 in /Users/xsa-osx/miniforge3/envs/ag/lib/python3.11/site-packages (from langchain_experimental) (0.1.4)\r\n",
      "Requirement already satisfied: langchain-core<0.2.0,>=0.1.7 in /Users/xsa-osx/miniforge3/envs/ag/lib/python3.11/site-packages (from langchain_experimental) (0.1.16)\r\n",
      "Requirement already satisfied: PyYAML>=5.3 in /Users/xsa-osx/miniforge3/envs/ag/lib/python3.11/site-packages (from langchain<0.2,>=0.1->langchain_experimental) (6.0.1)\r\n",
      "Requirement already satisfied: SQLAlchemy<3,>=1.4 in /Users/xsa-osx/miniforge3/envs/ag/lib/python3.11/site-packages (from langchain<0.2,>=0.1->langchain_experimental) (2.0.25)\r\n",
      "Requirement already satisfied: aiohttp<4.0.0,>=3.8.3 in /Users/xsa-osx/miniforge3/envs/ag/lib/python3.11/site-packages (from langchain<0.2,>=0.1->langchain_experimental) (3.9.1)\r\n",
      "Requirement already satisfied: dataclasses-json<0.7,>=0.5.7 in /Users/xsa-osx/miniforge3/envs/ag/lib/python3.11/site-packages (from langchain<0.2,>=0.1->langchain_experimental) (0.6.3)\r\n",
      "Requirement already satisfied: jsonpatch<2.0,>=1.33 in /Users/xsa-osx/miniforge3/envs/ag/lib/python3.11/site-packages (from langchain<0.2,>=0.1->langchain_experimental) (1.33)\r\n",
      "Requirement already satisfied: langchain-community<0.1,>=0.0.14 in /Users/xsa-osx/miniforge3/envs/ag/lib/python3.11/site-packages (from langchain<0.2,>=0.1->langchain_experimental) (0.0.16)\r\n",
      "Requirement already satisfied: langsmith<0.1,>=0.0.83 in /Users/xsa-osx/miniforge3/envs/ag/lib/python3.11/site-packages (from langchain<0.2,>=0.1->langchain_experimental) (0.0.83)\r\n",
      "Requirement already satisfied: numpy<2,>=1 in /Users/xsa-osx/miniforge3/envs/ag/lib/python3.11/site-packages (from langchain<0.2,>=0.1->langchain_experimental) (1.26.3)\r\n",
      "Requirement already satisfied: pydantic<3,>=1 in /Users/xsa-osx/miniforge3/envs/ag/lib/python3.11/site-packages (from langchain<0.2,>=0.1->langchain_experimental) (2.5.3)\r\n",
      "Requirement already satisfied: requests<3,>=2 in /Users/xsa-osx/miniforge3/envs/ag/lib/python3.11/site-packages (from langchain<0.2,>=0.1->langchain_experimental) (2.31.0)\r\n",
      "Requirement already satisfied: tenacity<9.0.0,>=8.1.0 in /Users/xsa-osx/miniforge3/envs/ag/lib/python3.11/site-packages (from langchain<0.2,>=0.1->langchain_experimental) (8.2.3)\r\n",
      "Requirement already satisfied: anyio<5,>=3 in /Users/xsa-osx/miniforge3/envs/ag/lib/python3.11/site-packages (from langchain-core<0.2.0,>=0.1.7->langchain_experimental) (4.2.0)\r\n",
      "Requirement already satisfied: packaging<24.0,>=23.2 in /Users/xsa-osx/miniforge3/envs/ag/lib/python3.11/site-packages (from langchain-core<0.2.0,>=0.1.7->langchain_experimental) (23.2)\r\n",
      "Requirement already satisfied: attrs>=17.3.0 in /Users/xsa-osx/miniforge3/envs/ag/lib/python3.11/site-packages (from aiohttp<4.0.0,>=3.8.3->langchain<0.2,>=0.1->langchain_experimental) (23.2.0)\r\n",
      "Requirement already satisfied: multidict<7.0,>=4.5 in /Users/xsa-osx/miniforge3/envs/ag/lib/python3.11/site-packages (from aiohttp<4.0.0,>=3.8.3->langchain<0.2,>=0.1->langchain_experimental) (6.0.4)\r\n",
      "Requirement already satisfied: yarl<2.0,>=1.0 in /Users/xsa-osx/miniforge3/envs/ag/lib/python3.11/site-packages (from aiohttp<4.0.0,>=3.8.3->langchain<0.2,>=0.1->langchain_experimental) (1.9.4)\r\n",
      "Requirement already satisfied: frozenlist>=1.1.1 in /Users/xsa-osx/miniforge3/envs/ag/lib/python3.11/site-packages (from aiohttp<4.0.0,>=3.8.3->langchain<0.2,>=0.1->langchain_experimental) (1.4.1)\r\n",
      "Requirement already satisfied: aiosignal>=1.1.2 in /Users/xsa-osx/miniforge3/envs/ag/lib/python3.11/site-packages (from aiohttp<4.0.0,>=3.8.3->langchain<0.2,>=0.1->langchain_experimental) (1.3.1)\r\n",
      "Requirement already satisfied: idna>=2.8 in /Users/xsa-osx/miniforge3/envs/ag/lib/python3.11/site-packages (from anyio<5,>=3->langchain-core<0.2.0,>=0.1.7->langchain_experimental) (3.6)\r\n",
      "Requirement already satisfied: sniffio>=1.1 in /Users/xsa-osx/miniforge3/envs/ag/lib/python3.11/site-packages (from anyio<5,>=3->langchain-core<0.2.0,>=0.1.7->langchain_experimental) (1.3.0)\r\n",
      "Requirement already satisfied: marshmallow<4.0.0,>=3.18.0 in /Users/xsa-osx/miniforge3/envs/ag/lib/python3.11/site-packages (from dataclasses-json<0.7,>=0.5.7->langchain<0.2,>=0.1->langchain_experimental) (3.20.2)\r\n",
      "Requirement already satisfied: typing-inspect<1,>=0.4.0 in /Users/xsa-osx/miniforge3/envs/ag/lib/python3.11/site-packages (from dataclasses-json<0.7,>=0.5.7->langchain<0.2,>=0.1->langchain_experimental) (0.9.0)\r\n",
      "Requirement already satisfied: jsonpointer>=1.9 in /Users/xsa-osx/miniforge3/envs/ag/lib/python3.11/site-packages (from jsonpatch<2.0,>=1.33->langchain<0.2,>=0.1->langchain_experimental) (2.4)\r\n",
      "Requirement already satisfied: annotated-types>=0.4.0 in /Users/xsa-osx/miniforge3/envs/ag/lib/python3.11/site-packages (from pydantic<3,>=1->langchain<0.2,>=0.1->langchain_experimental) (0.6.0)\r\n",
      "Requirement already satisfied: pydantic-core==2.14.6 in /Users/xsa-osx/miniforge3/envs/ag/lib/python3.11/site-packages (from pydantic<3,>=1->langchain<0.2,>=0.1->langchain_experimental) (2.14.6)\r\n",
      "Requirement already satisfied: typing-extensions>=4.6.1 in /Users/xsa-osx/miniforge3/envs/ag/lib/python3.11/site-packages (from pydantic<3,>=1->langchain<0.2,>=0.1->langchain_experimental) (4.9.0)\r\n",
      "Requirement already satisfied: charset-normalizer<4,>=2 in /Users/xsa-osx/miniforge3/envs/ag/lib/python3.11/site-packages (from requests<3,>=2->langchain<0.2,>=0.1->langchain_experimental) (3.3.2)\r\n",
      "Requirement already satisfied: urllib3<3,>=1.21.1 in /Users/xsa-osx/miniforge3/envs/ag/lib/python3.11/site-packages (from requests<3,>=2->langchain<0.2,>=0.1->langchain_experimental) (2.1.0)\r\n",
      "Requirement already satisfied: certifi>=2017.4.17 in /Users/xsa-osx/miniforge3/envs/ag/lib/python3.11/site-packages (from requests<3,>=2->langchain<0.2,>=0.1->langchain_experimental) (2023.11.17)\r\n",
      "Requirement already satisfied: mypy-extensions>=0.3.0 in /Users/xsa-osx/miniforge3/envs/ag/lib/python3.11/site-packages (from typing-inspect<1,>=0.4.0->dataclasses-json<0.7,>=0.5.7->langchain<0.2,>=0.1->langchain_experimental) (1.0.0)\r\n",
      "Downloading langchain_experimental-0.0.49-py3-none-any.whl (165 kB)\r\n",
      "\u001B[2K   \u001B[90m━━━━━━━━━━━━━━━━━━━━━━━━━━━━━━━━━━━━━━━━\u001B[0m \u001B[32m165.7/165.7 kB\u001B[0m \u001B[31m1.8 MB/s\u001B[0m eta \u001B[36m0:00:00\u001B[0m00:01\u001B[0m0:01\u001B[0m\r\n",
      "\u001B[?25hInstalling collected packages: langchain_experimental\r\n",
      "Successfully installed langchain_experimental-0.0.49\r\n"
     ]
    }
   ],
   "source": [
    "!pip install langchain_experimental"
   ]
  },
  {
   "cell_type": "markdown",
   "id": "39a3e6e20de765ca",
   "metadata": {
    "collapsed": false
   },
   "source": [
    "## Load data"
   ]
  },
  {
   "cell_type": "code",
   "execution_count": 3,
   "id": "initial_id",
   "metadata": {
    "ExecuteTime": {
     "end_time": "2024-01-29T19:34:53.884117Z",
     "start_time": "2024-01-29T19:34:53.472788Z"
    },
    "collapsed": true
   },
   "outputs": [],
   "source": [
    "from langchain.agents.agent_types import AgentType\n",
    "from langchain_experimental.agents.agent_toolkits import create_pandas_dataframe_agent\n",
    "from langchain_openai import ChatOpenAI"
   ]
  },
  {
   "cell_type": "code",
   "execution_count": 11,
   "id": "90aff1f0efd29a8d",
   "metadata": {
    "ExecuteTime": {
     "end_time": "2024-01-29T19:37:18.696222Z",
     "start_time": "2024-01-29T19:37:16.986906Z"
    },
    "collapsed": false
   },
   "outputs": [],
   "source": [
    "import pandas as pd\n",
    "from langchain_openai import OpenAI\n",
    "\n",
    "df_X = pd.read_csv(\"autogen_studio/data/interview.X.csv\")\n",
    "df_Y = pd.read_csv(\"autogen_studio/data/interview.Y.csv\")"
   ]
  },
  {
   "cell_type": "code",
   "execution_count": 25,
   "id": "877fa5899e1cec59",
   "metadata": {
    "ExecuteTime": {
     "end_time": "2024-01-29T19:43:26.011823Z",
     "start_time": "2024-01-29T19:43:25.990170Z"
    },
    "collapsed": false
   },
   "outputs": [],
   "source": [
    "agent_X = create_pandas_dataframe_agent(OpenAI(\n",
    "    temperature=0\n",
    "), [df_X], verbose=True)"
   ]
  },
  {
   "cell_type": "markdown",
   "id": "93a24367def73e04",
   "metadata": {
    "collapsed": false
   },
   "source": [
    "## Answer the first question"
   ]
  },
  {
   "cell_type": "code",
   "execution_count": 26,
   "id": "c1965c0295c43000",
   "metadata": {
    "ExecuteTime": {
     "end_time": "2024-01-29T19:43:47.178725Z",
     "start_time": "2024-01-29T19:43:36.145150Z"
    },
    "collapsed": false
   },
   "outputs": [
    {
     "name": "stdout",
     "output_type": "stream",
     "text": [
      "\n",
      "\n",
      "\u001B[1m> Entering new AgentExecutor chain...\u001B[0m\n",
      "\u001B[32;1m\u001B[1;3mThought: I need to find the correlation between each display feature and the event, and then sort them in descending order.\n",
      "Action: python_repl_ast\n",
      "Action Input: df.corr()\u001B[0m\n",
      "Observation: \u001B[36;1m\u001B[1;3mNameError: name 'df' is not defined\u001B[0m\n",
      "Thought:\u001B[32;1m\u001B[1;3m I need to specify which dataframe I want to use.\n",
      "Action: python_repl_ast\n",
      "Action Input: df1.corr()\u001B[0m\n",
      "Observation: \u001B[36;1m\u001B[1;3m             reg_time       uid  fc_imp_chk  fc_time_chk     utmtr    mm_dma  \\\n",
      "reg_time     1.000000  0.001829    0.378722    -0.449154 -0.022480 -0.213098   \n",
      "uid          0.001829  1.000000    0.001645    -0.001848  0.000160 -0.001076   \n",
      "fc_imp_chk   0.378722  0.001645    1.000000    -0.845199  0.008410  0.005818   \n",
      "fc_time_chk -0.449154 -0.001848   -0.845199     1.000000  0.003178  0.081085   \n",
      "utmtr       -0.022480  0.000160    0.008410     0.003178  1.000000 -0.009411   \n",
      "mm_dma      -0.213098 -0.001076    0.005818     0.081085 -0.009411  1.000000   \n",
      "osName       0.057501 -0.001311    0.047982    -0.005060 -0.023457  0.263509   \n",
      "model        0.013373 -0.001720    0.037957     0.007518 -0.016222  0.313208   \n",
      "hardware    -0.012892 -0.000540    0.019470    -0.014048 -0.003100  0.124843   \n",
      "site_id      0.044162 -0.000950   -0.014210     0.017184 -0.008543  0.038776   \n",
      "\n",
      "               osName     model  hardware   site_id  \n",
      "reg_time     0.057501  0.013373 -0.012892  0.044162  \n",
      "uid         -0.001311 -0.001720 -0.000540 -0.000950  \n",
      "fc_imp_chk   0.047982  0.037957  0.019470 -0.014210  \n",
      "fc_time_chk -0.005060  0.007518 -0.014048  0.017184  \n",
      "utmtr       -0.023457 -0.016222 -0.003100 -0.008543  \n",
      "mm_dma       0.263509  0.313208  0.124843  0.038776  \n",
      "osName       1.000000  0.839351  0.177966  0.181835  \n",
      "model        0.839351  1.000000  0.388051  0.135920  \n",
      "hardware     0.177966  0.388051  1.000000  0.007727  \n",
      "site_id      0.181835  0.135920  0.007727  1.000000  \u001B[0m\n",
      "Thought:\u001B[32;1m\u001B[1;3m Now I need to find the correlation between each display feature and the event (fclick events).\n",
      "Action: python_repl_ast\n",
      "Action Input: df1.corr()['fc_imp_chk']\u001B[0m\n",
      "Observation: \u001B[36;1m\u001B[1;3mreg_time       0.378722\n",
      "uid            0.001645\n",
      "fc_imp_chk     1.000000\n",
      "fc_time_chk   -0.845199\n",
      "utmtr          0.008410\n",
      "mm_dma         0.005818\n",
      "osName         0.047982\n",
      "model          0.037957\n",
      "hardware       0.019470\n",
      "site_id       -0.014210\n",
      "Name: fc_imp_chk, dtype: float64\u001B[0m\n",
      "Thought:\u001B[32;1m\u001B[1;3m I need to sort the correlation values in descending order.\n",
      "Action: python_repl_ast\n",
      "Action Input: df1.corr()['fc_imp_chk'].sort_values(ascending=False)\u001B[0m\n",
      "Observation: \u001B[36;1m\u001B[1;3mfc_imp_chk     1.000000\n",
      "reg_time       0.378722\n",
      "osName         0.047982\n",
      "model          0.037957\n",
      "hardware       0.019470\n",
      "utmtr          0.008410\n",
      "mm_dma         0.005818\n",
      "uid            0.001645\n",
      "site_id       -0.014210\n",
      "fc_time_chk   -0.845199\n",
      "Name: fc_imp_chk, dtype: float64\u001B[0m\n",
      "Thought:\u001B[32;1m\u001B[1;3m I need to add a numerical assessment of the quality of each display feature.\n",
      "Action: python_repl_ast\n",
      "Action Input: df1.corr()['fc_imp_chk'].sort_values(ascending=False).reset_index().rename(columns={'index':'display_feature'})\u001B[0m\n",
      "Observation: \u001B[36;1m\u001B[1;3m  display_feature  fc_imp_chk\n",
      "0      fc_imp_chk    1.000000\n",
      "1        reg_time    0.378722\n",
      "2          osName    0.047982\n",
      "3           model    0.037957\n",
      "4        hardware    0.019470\n",
      "5           utmtr    0.008410\n",
      "6          mm_dma    0.005818\n",
      "7             uid    0.001645\n",
      "8         site_id   -0.014210\n",
      "9     fc_time_chk   -0.845199\u001B[0m\n",
      "Thought:\u001B[32;1m\u001B[1;3m Now I need to add a numerical assessment of the quality of each display feature.\n",
      "Action: python_repl_ast\n",
      "Action Input: df1.corr()['fc_imp_chk'].sort_values(ascending=False).reset_index().rename(columns={'index':'display_feature'}).rename(columns={'fc_imp_chk':'quality'})\u001B[0m\n",
      "Observation: \u001B[36;1m\u001B[1;3m  display_feature   quality\n",
      "0      fc_imp_chk  1.000000\n",
      "1        reg_time  0.378722\n",
      "2          osName  0.047982\n",
      "3           model  0.037957\n",
      "4        hardware  0.019470\n",
      "5           utmtr  0.008410\n",
      "6          mm_dma  0.005818\n",
      "7             uid  0.001645\n",
      "8         site_id -0.014210\n",
      "9     fc_time_chk -0.845199\u001B[0m\n",
      "Thought:\u001B[32;1m\u001B[1;3m I need to order the display features in descending order along with their quality assessment.\n",
      "Action: python_repl_ast\n",
      "Action Input: df1.corr()['fc_imp_chk'].sort_values(ascending=False).reset_index().rename(columns={'index':'display_feature'}).rename(columns={'fc_imp_chk':'quality'}).sort_values(by='quality', ascending=False)\u001B[0m\n",
      "Observation: \u001B[36;1m\u001B[1;3m  display_feature   quality\n",
      "0      fc_imp_chk  1.000000\n",
      "1        reg_time  0.378722\n",
      "2          osName  0.047982\n",
      "3           model  0.037957\n",
      "4        hardware  0.019470\n",
      "5           utmtr  0.008410\n",
      "6          mm_dma  0.005818\n",
      "7             uid  0.001645\n",
      "8         site_id -0.014210\n",
      "9     fc_time_chk -0.845199\u001B[0m\n",
      "Thought:\u001B[32;1m\u001B[1;3m Now I need to add the numerical assessment of each display feature in the desired format.\n",
      "Action: python_repl_ast\n",
      "Action Input: df1.corr()['fc_imp_chk'].sort_values(ascending=False).reset_index().rename(columns={'index':'display_feature'}).rename(columns={'fc_imp_chk':'quality'}).sort_values(by='quality', ascending=False).reset_index(drop=True).reset_index().rename(columns={'index':'numerical_assessment'})\u001B[0m\n",
      "Observation: \u001B[36;1m\u001B[1;3m   numerical_assessment display_feature   quality\n",
      "0                     0      fc_imp_chk  1.000000\n",
      "1                     1        reg_time  0.378722\n",
      "2                     2          osName  0.047982\n",
      "3                     3           model  0.037957\n",
      "4                     4        hardware  0.019470\n",
      "5                     5           utmtr  0.008410\n",
      "6                     6          mm_dma  0.005818\n",
      "7                     7             uid  0.001645\n",
      "8                     8         site_id -0.014210\n",
      "9                     9     fc_time_chk -0.845199\u001B[0m\n",
      "Thought:\u001B[32;1m\u001B[1;3m I now know the final answer.\n",
      "Final Answer: 1. fc_imp_chk 1.0 2. reg_time 0.378722 3. osName 0.047982 4. model 0.037957 5. hardware 0.01947 6. utmtr 0.00841 7. mm_dma 0.005818 8. uid 0.001645 9. site_id -0.01421 10. fc_time_chk -0.845199\u001B[0m\n",
      "\n",
      "\u001B[1m> Finished chain.\u001B[0m\n"
     ]
    },
    {
     "data": {
      "text/plain": [
       "'1. fc_imp_chk 1.0 2. reg_time 0.378722 3. osName 0.047982 4. model 0.037957 5. hardware 0.01947 6. utmtr 0.00841 7. mm_dma 0.005818 8. uid 0.001645 9. site_id -0.01421 10. fc_time_chk -0.845199'"
      ]
     },
     "execution_count": 26,
     "metadata": {},
     "output_type": "execute_result"
    }
   ],
   "source": [
    "agent_X.run(\"Determine which display features are good predictors of an event (e.g., fclick events), order them in descending order along with a numerical assessment of their quality. like: 1. fc_imp_chk .9 2. fc_time_chk .87 ...\")"
   ]
  }
 ],
 "metadata": {
  "kernelspec": {
   "display_name": "Python 3",
   "language": "python",
   "name": "python3"
  },
  "language_info": {
   "codemirror_mode": {
    "name": "ipython",
    "version": 2
   },
   "file_extension": ".py",
   "mimetype": "text/x-python",
   "name": "python",
   "nbconvert_exporter": "python",
   "pygments_lexer": "ipython2",
   "version": "2.7.6"
  }
 },
 "nbformat": 4,
 "nbformat_minor": 5
}
