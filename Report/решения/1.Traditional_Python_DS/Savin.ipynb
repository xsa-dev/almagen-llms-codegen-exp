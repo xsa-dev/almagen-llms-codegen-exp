{
 "cells": [
  {
   "cell_type": "code",
   "execution_count": 1,
   "metadata": {
    "execution": {
     "iopub.execute_input": "2024-02-05T00:30:10.381929Z",
     "iopub.status.busy": "2024-02-05T00:30:10.381346Z",
     "iopub.status.idle": "2024-02-05T00:30:13.593729Z",
     "shell.execute_reply": "2024-02-05T00:30:13.592976Z",
     "shell.execute_reply.started": "2024-02-05T00:30:10.381900Z"
    }
   },
   "outputs": [
    {
     "name": "stdout",
     "output_type": "stream",
     "text": [
      "Requirement already satisfied: dask_ml in /opt/saturncloud/envs/saturn/lib/python3.10/site-packages (2023.3.24)\n",
      "Requirement already satisfied: imblearn in /opt/saturncloud/envs/saturn/lib/python3.10/site-packages (0.0)\n",
      "Requirement already satisfied: catboost in /opt/saturncloud/envs/saturn/lib/python3.10/site-packages (1.2.2)\n",
      "Requirement already satisfied: seaborn in /opt/saturncloud/envs/saturn/lib/python3.10/site-packages (0.13.2)\n",
      "Requirement already satisfied: autokeras in /opt/saturncloud/envs/saturn/lib/python3.10/site-packages (1.1.0)\n",
      "Requirement already satisfied: dask>=2.4.0 in /opt/saturncloud/envs/saturn/lib/python3.10/site-packages (from dask[array,dataframe]>=2.4.0->dask_ml) (2023.11.0)\n",
      "Requirement already satisfied: distributed>=2.4.0 in /opt/saturncloud/envs/saturn/lib/python3.10/site-packages (from dask_ml) (2023.11.0)\n",
      "Requirement already satisfied: numba>=0.51.0 in /opt/saturncloud/envs/saturn/lib/python3.10/site-packages (from dask_ml) (0.58.1)\n",
      "Requirement already satisfied: numpy>=1.20.0 in /opt/saturncloud/envs/saturn/lib/python3.10/site-packages (from dask_ml) (1.26.3)\n",
      "Requirement already satisfied: pandas>=0.24.2 in /opt/saturncloud/envs/saturn/lib/python3.10/site-packages (from dask_ml) (1.5.3)\n",
      "Requirement already satisfied: scikit-learn>=1.2.0 in /opt/saturncloud/envs/saturn/lib/python3.10/site-packages (from dask_ml) (1.4.0)\n",
      "Requirement already satisfied: scipy in /opt/saturncloud/envs/saturn/lib/python3.10/site-packages (from dask_ml) (1.12.0)\n",
      "Requirement already satisfied: dask-glm>=0.2.0 in /opt/saturncloud/envs/saturn/lib/python3.10/site-packages (from dask_ml) (0.3.2)\n",
      "Requirement already satisfied: multipledispatch>=0.4.9 in /opt/saturncloud/envs/saturn/lib/python3.10/site-packages (from dask_ml) (1.0.0)\n",
      "Requirement already satisfied: packaging in /opt/saturncloud/envs/saturn/lib/python3.10/site-packages (from dask_ml) (23.2)\n",
      "Requirement already satisfied: imbalanced-learn in /opt/saturncloud/envs/saturn/lib/python3.10/site-packages (from imblearn) (0.12.0)\n",
      "Requirement already satisfied: graphviz in /opt/saturncloud/envs/saturn/lib/python3.10/site-packages (from catboost) (0.20.1)\n",
      "Requirement already satisfied: matplotlib in /opt/saturncloud/envs/saturn/lib/python3.10/site-packages (from catboost) (3.8.2)\n",
      "Requirement already satisfied: plotly in /opt/saturncloud/envs/saturn/lib/python3.10/site-packages (from catboost) (5.18.0)\n",
      "Requirement already satisfied: six in /opt/saturncloud/envs/saturn/lib/python3.10/site-packages (from catboost) (1.16.0)\n",
      "Requirement already satisfied: tensorflow>=2.8.0 in /opt/saturncloud/envs/saturn/lib/python3.10/site-packages (from autokeras) (2.15.0.post1)\n",
      "Requirement already satisfied: keras-tuner>=1.1.0 in /opt/saturncloud/envs/saturn/lib/python3.10/site-packages (from autokeras) (1.4.6)\n",
      "Requirement already satisfied: keras-nlp>=0.4.0 in /opt/saturncloud/envs/saturn/lib/python3.10/site-packages (from autokeras) (0.7.0)\n",
      "Requirement already satisfied: click>=8.1 in /opt/saturncloud/envs/saturn/lib/python3.10/site-packages (from dask>=2.4.0->dask[array,dataframe]>=2.4.0->dask_ml) (8.1.7)\n",
      "Requirement already satisfied: cloudpickle>=1.5.0 in /opt/saturncloud/envs/saturn/lib/python3.10/site-packages (from dask>=2.4.0->dask[array,dataframe]>=2.4.0->dask_ml) (2.2.1)\n",
      "Requirement already satisfied: fsspec>=2021.09.0 in /opt/saturncloud/envs/saturn/lib/python3.10/site-packages (from dask>=2.4.0->dask[array,dataframe]>=2.4.0->dask_ml) (2023.12.2)\n",
      "Requirement already satisfied: partd>=1.2.0 in /opt/saturncloud/envs/saturn/lib/python3.10/site-packages (from dask>=2.4.0->dask[array,dataframe]>=2.4.0->dask_ml) (1.4.1)\n",
      "Requirement already satisfied: pyyaml>=5.3.1 in /opt/saturncloud/envs/saturn/lib/python3.10/site-packages (from dask>=2.4.0->dask[array,dataframe]>=2.4.0->dask_ml) (6.0.1)\n",
      "Requirement already satisfied: toolz>=0.10.0 in /opt/saturncloud/envs/saturn/lib/python3.10/site-packages (from dask>=2.4.0->dask[array,dataframe]>=2.4.0->dask_ml) (0.12.1)\n",
      "Requirement already satisfied: importlib-metadata>=4.13.0 in /opt/saturncloud/envs/saturn/lib/python3.10/site-packages (from dask>=2.4.0->dask[array,dataframe]>=2.4.0->dask_ml) (7.0.1)\n",
      "Requirement already satisfied: sparse>=0.7.0 in /opt/saturncloud/envs/saturn/lib/python3.10/site-packages (from dask-glm>=0.2.0->dask_ml) (0.15.1)\n",
      "Requirement already satisfied: jinja2>=2.10.3 in /opt/saturncloud/envs/saturn/lib/python3.10/site-packages (from distributed>=2.4.0->dask_ml) (3.1.3)\n",
      "Requirement already satisfied: locket>=1.0.0 in /opt/saturncloud/envs/saturn/lib/python3.10/site-packages (from distributed>=2.4.0->dask_ml) (1.0.0)\n",
      "Requirement already satisfied: msgpack>=1.0.0 in /opt/saturncloud/envs/saturn/lib/python3.10/site-packages (from distributed>=2.4.0->dask_ml) (1.0.7)\n",
      "Requirement already satisfied: psutil>=5.7.2 in /opt/saturncloud/envs/saturn/lib/python3.10/site-packages (from distributed>=2.4.0->dask_ml) (5.9.8)\n",
      "Requirement already satisfied: sortedcontainers>=2.0.5 in /opt/saturncloud/envs/saturn/lib/python3.10/site-packages (from distributed>=2.4.0->dask_ml) (2.4.0)\n",
      "Requirement already satisfied: tblib>=1.6.0 in /opt/saturncloud/envs/saturn/lib/python3.10/site-packages (from distributed>=2.4.0->dask_ml) (3.0.0)\n",
      "Requirement already satisfied: tornado>=6.0.4 in /opt/saturncloud/envs/saturn/lib/python3.10/site-packages (from distributed>=2.4.0->dask_ml) (6.3.3)\n",
      "Requirement already satisfied: urllib3>=1.24.3 in /opt/saturncloud/envs/saturn/lib/python3.10/site-packages (from distributed>=2.4.0->dask_ml) (1.26.18)\n",
      "Requirement already satisfied: zict>=3.0.0 in /opt/saturncloud/envs/saturn/lib/python3.10/site-packages (from distributed>=2.4.0->dask_ml) (3.0.0)\n",
      "Requirement already satisfied: keras-core in /opt/saturncloud/envs/saturn/lib/python3.10/site-packages (from keras-nlp>=0.4.0->autokeras) (0.1.7)\n",
      "Requirement already satisfied: absl-py in /opt/saturncloud/envs/saturn/lib/python3.10/site-packages (from keras-nlp>=0.4.0->autokeras) (2.1.0)\n",
      "Requirement already satisfied: regex in /opt/saturncloud/envs/saturn/lib/python3.10/site-packages (from keras-nlp>=0.4.0->autokeras) (2023.12.25)\n",
      "Requirement already satisfied: rich in /opt/saturncloud/envs/saturn/lib/python3.10/site-packages (from keras-nlp>=0.4.0->autokeras) (13.7.0)\n",
      "Requirement already satisfied: dm-tree in /opt/saturncloud/envs/saturn/lib/python3.10/site-packages (from keras-nlp>=0.4.0->autokeras) (0.1.8)\n",
      "Requirement already satisfied: kagglehub in /opt/saturncloud/envs/saturn/lib/python3.10/site-packages (from keras-nlp>=0.4.0->autokeras) (0.1.8)\n",
      "Requirement already satisfied: tensorflow-text in /opt/saturncloud/envs/saturn/lib/python3.10/site-packages (from keras-nlp>=0.4.0->autokeras) (2.15.0)\n",
      "Requirement already satisfied: keras in /opt/saturncloud/envs/saturn/lib/python3.10/site-packages (from keras-tuner>=1.1.0->autokeras) (2.15.0)\n",
      "Requirement already satisfied: requests in /opt/saturncloud/envs/saturn/lib/python3.10/site-packages (from keras-tuner>=1.1.0->autokeras) (2.31.0)\n",
      "Requirement already satisfied: kt-legacy in /opt/saturncloud/envs/saturn/lib/python3.10/site-packages (from keras-tuner>=1.1.0->autokeras) (1.0.5)\n",
      "Requirement already satisfied: contourpy>=1.0.1 in /opt/saturncloud/envs/saturn/lib/python3.10/site-packages (from matplotlib->catboost) (1.2.0)\n",
      "Requirement already satisfied: cycler>=0.10 in /opt/saturncloud/envs/saturn/lib/python3.10/site-packages (from matplotlib->catboost) (0.12.1)\n",
      "Requirement already satisfied: fonttools>=4.22.0 in /opt/saturncloud/envs/saturn/lib/python3.10/site-packages (from matplotlib->catboost) (4.47.2)\n",
      "Requirement already satisfied: kiwisolver>=1.3.1 in /opt/saturncloud/envs/saturn/lib/python3.10/site-packages (from matplotlib->catboost) (1.4.5)\n",
      "Requirement already satisfied: pillow>=8 in /opt/saturncloud/envs/saturn/lib/python3.10/site-packages (from matplotlib->catboost) (10.2.0)\n",
      "Requirement already satisfied: pyparsing>=2.3.1 in /opt/saturncloud/envs/saturn/lib/python3.10/site-packages (from matplotlib->catboost) (3.1.1)\n",
      "Requirement already satisfied: python-dateutil>=2.7 in /opt/saturncloud/envs/saturn/lib/python3.10/site-packages (from matplotlib->catboost) (2.8.2)\n",
      "Requirement already satisfied: llvmlite<0.42,>=0.41.0dev0 in /opt/saturncloud/envs/saturn/lib/python3.10/site-packages (from numba>=0.51.0->dask_ml) (0.41.1)\n",
      "Requirement already satisfied: pytz>=2020.1 in /opt/saturncloud/envs/saturn/lib/python3.10/site-packages (from pandas>=0.24.2->dask_ml) (2023.3.post1)\n",
      "Requirement already satisfied: joblib>=1.2.0 in /opt/saturncloud/envs/saturn/lib/python3.10/site-packages (from scikit-learn>=1.2.0->dask_ml) (1.3.2)\n",
      "Requirement already satisfied: threadpoolctl>=2.0.0 in /opt/saturncloud/envs/saturn/lib/python3.10/site-packages (from scikit-learn>=1.2.0->dask_ml) (3.2.0)\n",
      "Requirement already satisfied: astunparse>=1.6.0 in /opt/saturncloud/envs/saturn/lib/python3.10/site-packages (from tensorflow>=2.8.0->autokeras) (1.6.3)\n",
      "Requirement already satisfied: flatbuffers>=23.5.26 in /opt/saturncloud/envs/saturn/lib/python3.10/site-packages (from tensorflow>=2.8.0->autokeras) (23.5.26)\n",
      "Requirement already satisfied: gast!=0.5.0,!=0.5.1,!=0.5.2,>=0.2.1 in /opt/saturncloud/envs/saturn/lib/python3.10/site-packages (from tensorflow>=2.8.0->autokeras) (0.5.4)\n",
      "Requirement already satisfied: google-pasta>=0.1.1 in /opt/saturncloud/envs/saturn/lib/python3.10/site-packages (from tensorflow>=2.8.0->autokeras) (0.2.0)\n",
      "Requirement already satisfied: h5py>=2.9.0 in /opt/saturncloud/envs/saturn/lib/python3.10/site-packages (from tensorflow>=2.8.0->autokeras) (3.10.0)\n",
      "Requirement already satisfied: libclang>=13.0.0 in /opt/saturncloud/envs/saturn/lib/python3.10/site-packages (from tensorflow>=2.8.0->autokeras) (16.0.6)\n",
      "Requirement already satisfied: ml-dtypes~=0.2.0 in /opt/saturncloud/envs/saturn/lib/python3.10/site-packages (from tensorflow>=2.8.0->autokeras) (0.2.0)\n",
      "Requirement already satisfied: opt-einsum>=2.3.2 in /opt/saturncloud/envs/saturn/lib/python3.10/site-packages (from tensorflow>=2.8.0->autokeras) (3.3.0)\n",
      "Requirement already satisfied: protobuf!=4.21.0,!=4.21.1,!=4.21.2,!=4.21.3,!=4.21.4,!=4.21.5,<5.0.0dev,>=3.20.3 in /opt/saturncloud/envs/saturn/lib/python3.10/site-packages (from tensorflow>=2.8.0->autokeras) (4.24.4)\n",
      "Requirement already satisfied: setuptools in /opt/saturncloud/envs/saturn/lib/python3.10/site-packages (from tensorflow>=2.8.0->autokeras) (69.0.3)\n",
      "Requirement already satisfied: termcolor>=1.1.0 in /opt/saturncloud/envs/saturn/lib/python3.10/site-packages (from tensorflow>=2.8.0->autokeras) (2.4.0)\n",
      "Requirement already satisfied: typing-extensions>=3.6.6 in /opt/saturncloud/envs/saturn/lib/python3.10/site-packages (from tensorflow>=2.8.0->autokeras) (4.9.0)\n",
      "Requirement already satisfied: wrapt<1.15,>=1.11.0 in /opt/saturncloud/envs/saturn/lib/python3.10/site-packages (from tensorflow>=2.8.0->autokeras) (1.14.1)\n",
      "Requirement already satisfied: tensorflow-io-gcs-filesystem>=0.23.1 in /opt/saturncloud/envs/saturn/lib/python3.10/site-packages (from tensorflow>=2.8.0->autokeras) (0.35.0)\n",
      "Requirement already satisfied: grpcio<2.0,>=1.24.3 in /opt/saturncloud/envs/saturn/lib/python3.10/site-packages (from tensorflow>=2.8.0->autokeras) (1.59.3)\n",
      "Requirement already satisfied: tensorboard<2.16,>=2.15 in /opt/saturncloud/envs/saturn/lib/python3.10/site-packages (from tensorflow>=2.8.0->autokeras) (2.15.1)\n",
      "Requirement already satisfied: tensorflow-estimator<2.16,>=2.15.0 in /opt/saturncloud/envs/saturn/lib/python3.10/site-packages (from tensorflow>=2.8.0->autokeras) (2.15.0)\n",
      "Requirement already satisfied: tenacity>=6.2.0 in /opt/saturncloud/envs/saturn/lib/python3.10/site-packages (from plotly->catboost) (8.2.3)\n",
      "Requirement already satisfied: wheel<1.0,>=0.23.0 in /opt/saturncloud/envs/saturn/lib/python3.10/site-packages (from astunparse>=1.6.0->tensorflow>=2.8.0->autokeras) (0.42.0)\n",
      "Requirement already satisfied: zipp>=0.5 in /opt/saturncloud/envs/saturn/lib/python3.10/site-packages (from importlib-metadata>=4.13.0->dask>=2.4.0->dask[array,dataframe]>=2.4.0->dask_ml) (3.17.0)\n",
      "Requirement already satisfied: MarkupSafe>=2.0 in /opt/saturncloud/envs/saturn/lib/python3.10/site-packages (from jinja2>=2.10.3->distributed>=2.4.0->dask_ml) (2.1.4)\n",
      "Requirement already satisfied: google-auth<3,>=1.6.3 in /opt/saturncloud/envs/saturn/lib/python3.10/site-packages (from tensorboard<2.16,>=2.15->tensorflow>=2.8.0->autokeras) (2.27.0)\n",
      "Requirement already satisfied: google-auth-oauthlib<2,>=0.5 in /opt/saturncloud/envs/saturn/lib/python3.10/site-packages (from tensorboard<2.16,>=2.15->tensorflow>=2.8.0->autokeras) (1.2.0)\n",
      "Requirement already satisfied: markdown>=2.6.8 in /opt/saturncloud/envs/saturn/lib/python3.10/site-packages (from tensorboard<2.16,>=2.15->tensorflow>=2.8.0->autokeras) (3.5.2)\n",
      "Requirement already satisfied: tensorboard-data-server<0.8.0,>=0.7.0 in /opt/saturncloud/envs/saturn/lib/python3.10/site-packages (from tensorboard<2.16,>=2.15->tensorflow>=2.8.0->autokeras) (0.7.0)\n",
      "Requirement already satisfied: werkzeug>=1.0.1 in /opt/saturncloud/envs/saturn/lib/python3.10/site-packages (from tensorboard<2.16,>=2.15->tensorflow>=2.8.0->autokeras) (3.0.1)\n",
      "Requirement already satisfied: charset-normalizer<4,>=2 in /opt/saturncloud/envs/saturn/lib/python3.10/site-packages (from requests->keras-tuner>=1.1.0->autokeras) (3.3.2)\n",
      "Requirement already satisfied: idna<4,>=2.5 in /opt/saturncloud/envs/saturn/lib/python3.10/site-packages (from requests->keras-tuner>=1.1.0->autokeras) (3.6)\n",
      "Requirement already satisfied: certifi>=2017.4.17 in /opt/saturncloud/envs/saturn/lib/python3.10/site-packages (from requests->keras-tuner>=1.1.0->autokeras) (2023.11.17)\n",
      "Requirement already satisfied: tqdm in /opt/saturncloud/envs/saturn/lib/python3.10/site-packages (from kagglehub->keras-nlp>=0.4.0->autokeras) (4.66.1)\n",
      "Requirement already satisfied: namex in /opt/saturncloud/envs/saturn/lib/python3.10/site-packages (from keras-core->keras-nlp>=0.4.0->autokeras) (0.0.7)\n",
      "Requirement already satisfied: markdown-it-py>=2.2.0 in /opt/saturncloud/envs/saturn/lib/python3.10/site-packages (from rich->keras-nlp>=0.4.0->autokeras) (3.0.0)\n",
      "Requirement already satisfied: pygments<3.0.0,>=2.13.0 in /opt/saturncloud/envs/saturn/lib/python3.10/site-packages (from rich->keras-nlp>=0.4.0->autokeras) (2.17.2)\n",
      "Requirement already satisfied: tensorflow-hub>=0.13.0 in /opt/saturncloud/envs/saturn/lib/python3.10/site-packages (from tensorflow-text->keras-nlp>=0.4.0->autokeras) (0.16.1)\n",
      "Requirement already satisfied: cachetools<6.0,>=2.0.0 in /opt/saturncloud/envs/saturn/lib/python3.10/site-packages (from google-auth<3,>=1.6.3->tensorboard<2.16,>=2.15->tensorflow>=2.8.0->autokeras) (5.3.2)\n",
      "Requirement already satisfied: pyasn1-modules>=0.2.1 in /opt/saturncloud/envs/saturn/lib/python3.10/site-packages (from google-auth<3,>=1.6.3->tensorboard<2.16,>=2.15->tensorflow>=2.8.0->autokeras) (0.3.0)\n",
      "Requirement already satisfied: rsa<5,>=3.1.4 in /opt/saturncloud/envs/saturn/lib/python3.10/site-packages (from google-auth<3,>=1.6.3->tensorboard<2.16,>=2.15->tensorflow>=2.8.0->autokeras) (4.9)\n",
      "Requirement already satisfied: requests-oauthlib>=0.7.0 in /opt/saturncloud/envs/saturn/lib/python3.10/site-packages (from google-auth-oauthlib<2,>=0.5->tensorboard<2.16,>=2.15->tensorflow>=2.8.0->autokeras) (1.3.1)\n",
      "Requirement already satisfied: mdurl~=0.1 in /opt/saturncloud/envs/saturn/lib/python3.10/site-packages (from markdown-it-py>=2.2.0->rich->keras-nlp>=0.4.0->autokeras) (0.1.2)\n",
      "Requirement already satisfied: tf-keras>=2.14.1 in /opt/saturncloud/envs/saturn/lib/python3.10/site-packages (from tensorflow-hub>=0.13.0->tensorflow-text->keras-nlp>=0.4.0->autokeras) (2.15.0)\n",
      "Requirement already satisfied: pyasn1<0.6.0,>=0.4.6 in /opt/saturncloud/envs/saturn/lib/python3.10/site-packages (from pyasn1-modules>=0.2.1->google-auth<3,>=1.6.3->tensorboard<2.16,>=2.15->tensorflow>=2.8.0->autokeras) (0.5.1)\n",
      "Requirement already satisfied: oauthlib>=3.0.0 in /opt/saturncloud/envs/saturn/lib/python3.10/site-packages (from requests-oauthlib>=0.7.0->google-auth-oauthlib<2,>=0.5->tensorboard<2.16,>=2.15->tensorflow>=2.8.0->autokeras) (3.2.2)\n"
     ]
    }
   ],
   "source": [
    "!pip install dask_ml imblearn catboost seaborn autokeras"
   ]
  },
  {
   "cell_type": "code",
   "execution_count": 2,
   "metadata": {
    "execution": {
     "iopub.execute_input": "2024-02-05T00:30:13.595834Z",
     "iopub.status.busy": "2024-02-05T00:30:13.595406Z",
     "iopub.status.idle": "2024-02-05T00:30:16.107610Z",
     "shell.execute_reply": "2024-02-05T00:30:16.106801Z",
     "shell.execute_reply.started": "2024-02-05T00:30:13.595795Z"
    },
    "tags": []
   },
   "outputs": [
    {
     "name": "stderr",
     "output_type": "stream",
     "text": [
      "2024-02-05 00:30:13.954854: I tensorflow/core/util/port.cc:113] oneDNN custom operations are on. You may see slightly different numerical results due to floating-point round-off errors from different computation orders. To turn them off, set the environment variable `TF_ENABLE_ONEDNN_OPTS=0`.\n",
      "2024-02-05 00:30:14.000696: E external/local_xla/xla/stream_executor/cuda/cuda_dnn.cc:9261] Unable to register cuDNN factory: Attempting to register factory for plugin cuDNN when one has already been registered\n",
      "2024-02-05 00:30:14.000733: E external/local_xla/xla/stream_executor/cuda/cuda_fft.cc:607] Unable to register cuFFT factory: Attempting to register factory for plugin cuFFT when one has already been registered\n",
      "2024-02-05 00:30:14.001869: E external/local_xla/xla/stream_executor/cuda/cuda_blas.cc:1515] Unable to register cuBLAS factory: Attempting to register factory for plugin cuBLAS when one has already been registered\n",
      "2024-02-05 00:30:14.009227: I tensorflow/core/platform/cpu_feature_guard.cc:182] This TensorFlow binary is optimized to use available CPU instructions in performance-critical operations.\n",
      "To enable the following instructions: AVX2 AVX512F AVX512_VNNI FMA, in other operations, rebuild TensorFlow with the appropriate compiler flags.\n",
      "2024-02-05 00:30:14.908904: W tensorflow/compiler/tf2tensorrt/utils/py_utils.cc:38] TF-TRT Warning: Could not find TensorRT\n"
     ]
    },
    {
     "name": "stdout",
     "output_type": "stream",
     "text": [
      "GPU devices: [PhysicalDevice(name='/physical_device:GPU:0', device_type='GPU')]\n"
     ]
    },
    {
     "name": "stderr",
     "output_type": "stream",
     "text": [
      "2024-02-05 00:30:16.054051: I external/local_xla/xla/stream_executor/cuda/cuda_executor.cc:901] successful NUMA node read from SysFS had negative value (-1), but there must be at least one NUMA node, so returning NUMA node zero. See more at https://github.com/torvalds/linux/blob/v6.0/Documentation/ABI/testing/sysfs-bus-pci#L344-L355\n",
      "2024-02-05 00:30:16.101835: I external/local_xla/xla/stream_executor/cuda/cuda_executor.cc:901] successful NUMA node read from SysFS had negative value (-1), but there must be at least one NUMA node, so returning NUMA node zero. See more at https://github.com/torvalds/linux/blob/v6.0/Documentation/ABI/testing/sysfs-bus-pci#L344-L355\n",
      "2024-02-05 00:30:16.103067: I external/local_xla/xla/stream_executor/cuda/cuda_executor.cc:901] successful NUMA node read from SysFS had negative value (-1), but there must be at least one NUMA node, so returning NUMA node zero. See more at https://github.com/torvalds/linux/blob/v6.0/Documentation/ABI/testing/sysfs-bus-pci#L344-L355\n"
     ]
    }
   ],
   "source": [
    "import tensorflow as tf\n",
    "\n",
    "# Проверка доступных устройств GPU\n",
    "gpus = tf.config.list_physical_devices(\"GPU\")\n",
    "if gpus:\n",
    "    try:\n",
    "        # Если GPU присутствуют, попробуйте их использовать\n",
    "        for gpu in gpus:\n",
    "            tf.config.experimental.set_memory_growth(gpu, True)\n",
    "        print(f\"GPU devices: {gpus}\")\n",
    "    except RuntimeError as e:\n",
    "        # Инициализация GPU происходит после загрузки TensorFlow\n",
    "        print(e)\n",
    "else:\n",
    "    print(\"No GPU devices found.\")"
   ]
  },
  {
   "cell_type": "markdown",
   "metadata": {
    "id": "0xGLnuP-dO6H"
   },
   "source": [
    "# Reseach"
   ]
  },
  {
   "cell_type": "markdown",
   "metadata": {
    "id": "YyZ4qPC8dO6I"
   },
   "source": [
    "## DS Libraries"
   ]
  },
  {
   "cell_type": "code",
   "execution_count": 3,
   "metadata": {
    "ExecuteTime": {
     "end_time": "2024-01-28T08:52:13.261933Z",
     "start_time": "2024-01-28T08:52:12.754900Z"
    },
    "execution": {
     "iopub.execute_input": "2024-02-05T00:30:16.109453Z",
     "iopub.status.busy": "2024-02-05T00:30:16.108860Z",
     "iopub.status.idle": "2024-02-05T00:30:17.575739Z",
     "shell.execute_reply": "2024-02-05T00:30:17.575108Z",
     "shell.execute_reply.started": "2024-02-05T00:30:16.109425Z"
    },
    "id": "nxNLYlsrdO6J"
   },
   "outputs": [],
   "source": [
    "import dask.dataframe as dd\n",
    "import matplotlib.pyplot as plt\n",
    "import pandas as pd\n",
    "import seaborn as sns\n",
    "from dask_ml.model_selection import train_test_split\n",
    "from sklearn.ensemble import RandomForestClassifier\n",
    "from sklearn.metrics import accuracy_score"
   ]
  },
  {
   "cell_type": "markdown",
   "metadata": {
    "id": "S8fn53CgdO6K"
   },
   "source": [
    "## Data preparation\n",
    "\n",
    "Определить, какие признаки показа являются хорошими предикторами события (например, события fclick), упорядочить их в порядке убывания вместе с численной оценкой их качества"
   ]
  },
  {
   "cell_type": "code",
   "execution_count": 4,
   "metadata": {
    "execution": {
     "iopub.execute_input": "2024-02-05T00:30:17.577911Z",
     "iopub.status.busy": "2024-02-05T00:30:17.576863Z",
     "iopub.status.idle": "2024-02-05T00:30:17.582801Z",
     "shell.execute_reply": "2024-02-05T00:30:17.581994Z",
     "shell.execute_reply.started": "2024-02-05T00:30:17.577867Z"
    },
    "id": "6Ge7pAJsdhgH"
   },
   "outputs": [],
   "source": [
    "def read_csv_to_dataframe(csv_file_path, delimiter=\",\"):\n",
    "    \"\"\" \"\"\"\n",
    "    try:\n",
    "        # Use pandas to read the CSV file\n",
    "        dataframe = pd.read_csv(csv_file_path, delimiter=delimiter)\n",
    "        return dataframe\n",
    "    except Exception as e:\n",
    "        print(f\"An error occurred while reading the CSV file: {e}\")\n",
    "        return None"
   ]
  },
  {
   "cell_type": "code",
   "execution_count": 5,
   "metadata": {
    "ExecuteTime": {
     "end_time": "2024-01-28T08:52:14.551891Z",
     "start_time": "2024-01-28T08:52:13.263364Z"
    },
    "execution": {
     "iopub.execute_input": "2024-02-05T00:30:17.586136Z",
     "iopub.status.busy": "2024-02-05T00:30:17.585530Z",
     "iopub.status.idle": "2024-02-05T00:30:19.983430Z",
     "shell.execute_reply": "2024-02-05T00:30:19.982784Z",
     "shell.execute_reply.started": "2024-02-05T00:30:17.586109Z"
    },
    "id": "3w8mu0tqdO6K"
   },
   "outputs": [],
   "source": [
    "features_file_path = \"interview.X.csv\"\n",
    "target_file_path = \"interview.y.csv\"\n",
    "\n",
    "features_df = read_csv_to_dataframe(features_file_path)\n",
    "target_df = read_csv_to_dataframe(target_file_path)\n",
    "\n",
    "merged_df = features_df.merge(target_df, on=\"uid\", how=\"left\")\n",
    "\n",
    "del features_df\n",
    "del target_df"
   ]
  },
  {
   "cell_type": "code",
   "execution_count": 6,
   "metadata": {
    "execution": {
     "iopub.execute_input": "2024-02-05T00:30:19.984634Z",
     "iopub.status.busy": "2024-02-05T00:30:19.984339Z",
     "iopub.status.idle": "2024-02-05T00:30:21.023071Z",
     "shell.execute_reply": "2024-02-05T00:30:21.022415Z",
     "shell.execute_reply.started": "2024-02-05T00:30:19.984610Z"
    },
    "id": "6wwIRT23Z7r3"
   },
   "outputs": [],
   "source": [
    "merged_df.dropna(inplace=True)\n",
    "merged_df.drop_duplicates(inplace=True)\n",
    "merged_df.reset_index(drop=True, inplace=True)"
   ]
  },
  {
   "cell_type": "code",
   "execution_count": 7,
   "metadata": {
    "execution": {
     "iopub.execute_input": "2024-02-05T00:30:21.024771Z",
     "iopub.status.busy": "2024-02-05T00:30:21.024152Z",
     "iopub.status.idle": "2024-02-05T00:30:21.033487Z",
     "shell.execute_reply": "2024-02-05T00:30:21.032825Z",
     "shell.execute_reply.started": "2024-02-05T00:30:21.024733Z"
    }
   },
   "outputs": [],
   "source": [
    "merged_df[\"is_fclick\"] = (merged_df[\"tag\"] == \"fclick\").astype(int)\n",
    "merged_df.drop(\"tag\", axis=1, inplace=True)"
   ]
  },
  {
   "cell_type": "code",
   "execution_count": 8,
   "metadata": {
    "colab": {
     "base_uri": "https://localhost:8080/"
    },
    "execution": {
     "iopub.execute_input": "2024-02-05T00:30:21.034720Z",
     "iopub.status.busy": "2024-02-05T00:30:21.034341Z",
     "iopub.status.idle": "2024-02-05T00:30:21.041476Z",
     "shell.execute_reply": "2024-02-05T00:30:21.040638Z",
     "shell.execute_reply.started": "2024-02-05T00:30:21.034692Z"
    },
    "id": "vODRD0Rbj6Km",
    "outputId": "9f13bdd7-3b78-4ca0-a04a-b86295dc6d19"
   },
   "outputs": [
    {
     "data": {
      "text/plain": [
       "(12363, 11)"
      ]
     },
     "execution_count": 8,
     "metadata": {},
     "output_type": "execute_result"
    }
   ],
   "source": [
    "merged_df.shape"
   ]
  },
  {
   "cell_type": "markdown",
   "metadata": {
    "id": "J38Kv7tsjDla"
   },
   "source": [
    "# Корреляционная матрица\n",
    "\n",
    "Корреляционной матрицей предоставляет информацию о степени линейной взаимосвязи между парами переменных. Каждый элемент матрицы представляет собой коэффициент корреляции между двумя соответствующими признаками. Этот коэффициент корреляции может принимать значения от -1 до 1, где:\n",
    "\n",
    "1 указывает на положительную линейную корреляцию (высокие значения одной переменной сопутствуют высоким значениям другой и наоборот).\n",
    "-1 указывает на отрицательную линейную корреляцию (высокие значения одной переменной сопутствуют низким значениям другой и наоборот).\n",
    "0 указывает на отсутствие линейной корреляции между переменными."
   ]
  },
  {
   "cell_type": "code",
   "execution_count": 9,
   "metadata": {
    "colab": {
     "base_uri": "https://localhost:8080/",
     "height": 759
    },
    "execution": {
     "iopub.execute_input": "2024-02-05T00:30:21.042939Z",
     "iopub.status.busy": "2024-02-05T00:30:21.042615Z",
     "iopub.status.idle": "2024-02-05T00:30:21.345512Z",
     "shell.execute_reply": "2024-02-05T00:30:21.344817Z",
     "shell.execute_reply.started": "2024-02-05T00:30:21.042915Z"
    },
    "id": "Wsiwf719F7NQ",
    "outputId": "5a227f01-17e5-47d9-901f-1fb031d0e4be"
   },
   "outputs": [
    {
     "data": {
      "image/png": "[encoded data removed]",
      "text/plain": [
       "<Figure size 1200x1000 with 2 Axes>"
      ]
     },
     "metadata": {},
     "output_type": "display_data"
    }
   ],
   "source": [
    "# Вычисление корреляционной матрицы\n",
    "correlation_matrix = merged_df[\n",
    "    [\"fc_imp_chk\", \"fc_time_chk\", \"utmtr\", \"mm_dma\", \"is_fclick\"]\n",
    "].corr()\n",
    "\n",
    "# Использование seaborn для визуализации\n",
    "plt.figure(figsize=(12, 10))\n",
    "sns.heatmap(correlation_matrix, annot=True, cmap=\"coolwarm\", fmt=\".2f\")\n",
    "plt.title(\"Корреляционная матрица\")\n",
    "plt.show()"
   ]
  },
  {
   "cell_type": "code",
   "execution_count": 10,
   "metadata": {
    "colab": {
     "base_uri": "https://localhost:8080/"
    },
    "execution": {
     "iopub.execute_input": "2024-02-05T00:30:21.347016Z",
     "iopub.status.busy": "2024-02-05T00:30:21.346634Z",
     "iopub.status.idle": "2024-02-05T00:30:21.357638Z",
     "shell.execute_reply": "2024-02-05T00:30:21.356828Z",
     "shell.execute_reply.started": "2024-02-05T00:30:21.346970Z"
    },
    "id": "IyU4bnSKatu6",
    "outputId": "826b7372-9322-4705-bb88-c1a9d52e86f5"
   },
   "outputs": [
    {
     "name": "stdout",
     "output_type": "stream",
     "text": [
      "Топ признаков по убыванию корреляции с is_fclick\n",
      "             fc_imp_chk  fc_time_chk     utmtr    mm_dma  is_fclick\n",
      "is_fclick      0.182984     0.200295  0.014849  0.000213   1.000000\n",
      "fc_time_chk    0.854737     1.000000  0.003409  0.012002   0.200295\n",
      "fc_imp_chk     1.000000     0.854737  0.018547  0.048873   0.182984\n",
      "utmtr          0.018547     0.003409  1.000000  0.010896   0.014849\n",
      "mm_dma         0.048873     0.012002  0.010896  1.000000   0.000213\n"
     ]
    }
   ],
   "source": [
    "# Сортировка признаков по убыванию корреляции\n",
    "sorted_correlations = correlation_matrix.abs().sort_values(\n",
    "    by=\"is_fclick\", ascending=True\n",
    ")\n",
    "\n",
    "# Выведите результаты\n",
    "print(\"Топ признаков по убыванию корреляции с\", \"is_fclick\")\n",
    "print(sorted_correlations.iloc[::-1])"
   ]
  },
  {
   "cell_type": "code",
   "execution_count": 11,
   "metadata": {
    "execution": {
     "iopub.execute_input": "2024-02-05T00:30:21.358868Z",
     "iopub.status.busy": "2024-02-05T00:30:21.358544Z",
     "iopub.status.idle": "2024-02-05T00:30:21.369002Z",
     "shell.execute_reply": "2024-02-05T00:30:21.368178Z",
     "shell.execute_reply.started": "2024-02-05T00:30:21.358841Z"
    },
    "id": "YFbwyG-rYT-l"
   },
   "outputs": [],
   "source": [
    "X = merged_df.drop(columns=[\"uid\", \"is_fclick\", \"site_id\", \"model\", \"hardware\"])\n",
    "y = merged_df[\"is_fclick\"]\n",
    "\n",
    "del merged_df"
   ]
  },
  {
   "cell_type": "markdown",
   "metadata": {
    "id": "AYyAWIyydO6L"
   },
   "source": [
    "### Add features"
   ]
  },
  {
   "cell_type": "code",
   "execution_count": 12,
   "metadata": {
    "ExecuteTime": {
     "end_time": "2024-01-28T08:52:14.879654Z",
     "start_time": "2024-01-28T08:52:14.721301Z"
    },
    "execution": {
     "iopub.execute_input": "2024-02-05T00:30:21.370775Z",
     "iopub.status.busy": "2024-02-05T00:30:21.370190Z",
     "iopub.status.idle": "2024-02-05T00:30:21.388768Z",
     "shell.execute_reply": "2024-02-05T00:30:21.388155Z",
     "shell.execute_reply.started": "2024-02-05T00:30:21.370750Z"
    },
    "id": "QyAKIgvadO6L"
   },
   "outputs": [],
   "source": [
    "# Assuming 'df' in DataFrame and it has a 'reg_time' with the datetime strings\n",
    "X[\"reg_time\"] = pd.to_datetime(X[\"reg_time\"])\n",
    "\n",
    "# Now extract date features from the 'reg_time' column\n",
    "X[\"year\"] = X[\"reg_time\"].dt.year\n",
    "X[\"month\"] = X[\"reg_time\"].dt.month\n",
    "X[\"day\"] = X[\"reg_time\"].dt.day\n",
    "X[\"weekday\"] = X[\"reg_time\"].dt.weekday  # Monday=0, Sunday=6\n",
    "\n",
    "# X['hour'] = X['reg_time'].dt.hour\n",
    "# X['minute'] = X['reg_time'].dt.minute\n",
    "# X['second'] = X['reg_time'].dt.second\n",
    "\n",
    "# Now drop the original 'reg_time' column\n",
    "X = X.drop(\"reg_time\", axis=1)"
   ]
  },
  {
   "cell_type": "code",
   "execution_count": 13,
   "metadata": {
    "execution": {
     "iopub.execute_input": "2024-02-05T00:30:21.391278Z",
     "iopub.status.busy": "2024-02-05T00:30:21.390921Z",
     "iopub.status.idle": "2024-02-05T00:30:21.399763Z",
     "shell.execute_reply": "2024-02-05T00:30:21.399221Z",
     "shell.execute_reply.started": "2024-02-05T00:30:21.391254Z"
    },
    "id": "cVE_dbEBIACH"
   },
   "outputs": [],
   "source": [
    "df_X_dask = dd.from_pandas(X, npartitions=8)  # 8 - количество частей"
   ]
  },
  {
   "cell_type": "markdown",
   "metadata": {
    "id": "GwywQbiQdO6N"
   },
   "source": [
    "## Train model"
   ]
  },
  {
   "cell_type": "code",
   "execution_count": 14,
   "metadata": {
    "execution": {
     "iopub.execute_input": "2024-02-05T00:30:21.403908Z",
     "iopub.status.busy": "2024-02-05T00:30:21.403624Z",
     "iopub.status.idle": "2024-02-05T00:30:21.424384Z",
     "shell.execute_reply": "2024-02-05T00:30:21.423805Z",
     "shell.execute_reply.started": "2024-02-05T00:30:21.403886Z"
    },
    "id": "-rYS46d_K4wo"
   },
   "outputs": [],
   "source": [
    "import dask\n",
    "import dask.dataframe as dd\n",
    "from dask_ml.model_selection import train_test_split\n",
    "from dask_ml.preprocessing import OneHotEncoder\n",
    "from sklearn.metrics import accuracy_score\n",
    "\n",
    "# Extract categorical columns\n",
    "categorical_columns = [\"osName\"]\n",
    "\n",
    "# Categorize the columns to ensure known categories\n",
    "df_X_dask = df_X_dask.categorize(columns=categorical_columns)"
   ]
  },
  {
   "cell_type": "code",
   "execution_count": 15,
   "metadata": {
    "execution": {
     "iopub.execute_input": "2024-02-05T00:30:21.425574Z",
     "iopub.status.busy": "2024-02-05T00:30:21.425232Z",
     "iopub.status.idle": "2024-02-05T00:30:21.437103Z",
     "shell.execute_reply": "2024-02-05T00:30:21.436543Z",
     "shell.execute_reply.started": "2024-02-05T00:30:21.425547Z"
    },
    "id": "Rlmyk6wsbAxa"
   },
   "outputs": [],
   "source": [
    "# Concatenate encoded features with original numeric features\n",
    "X_dask_encoded = dd.get_dummies(df_X_dask)"
   ]
  },
  {
   "cell_type": "code",
   "execution_count": 16,
   "metadata": {
    "colab": {
     "base_uri": "https://localhost:8080/"
    },
    "execution": {
     "iopub.execute_input": "2024-02-05T00:30:21.438508Z",
     "iopub.status.busy": "2024-02-05T00:30:21.438140Z",
     "iopub.status.idle": "2024-02-05T00:30:21.470544Z",
     "shell.execute_reply": "2024-02-05T00:30:21.469876Z",
     "shell.execute_reply.started": "2024-02-05T00:30:21.438471Z"
    },
    "id": "qypmMI2MgcUQ",
    "outputId": "752bb412-de1e-4c13-daf0-89b7732ad5f0"
   },
   "outputs": [
    {
     "data": {
      "text/plain": [
       "(12363, 14)"
      ]
     },
     "execution_count": 16,
     "metadata": {},
     "output_type": "execute_result"
    }
   ],
   "source": [
    "X_dask_encoded.compute().shape"
   ]
  },
  {
   "cell_type": "code",
   "execution_count": 17,
   "metadata": {
    "execution": {
     "iopub.execute_input": "2024-02-05T00:30:21.472139Z",
     "iopub.status.busy": "2024-02-05T00:30:21.471728Z",
     "iopub.status.idle": "2024-02-05T00:30:21.504309Z",
     "shell.execute_reply": "2024-02-05T00:30:21.503373Z",
     "shell.execute_reply.started": "2024-02-05T00:30:21.472102Z"
    }
   },
   "outputs": [],
   "source": [
    "import dask_ml.model_selection as dcv\n",
    "\n",
    "# Convert the Dask DataFrame to a Pandas DataFrame\n",
    "X_dask_encoded_pd = X_dask_encoded.compute()\n",
    "\n",
    "# Split the data into training and testing sets\n",
    "X_train, X_test, y_train, y_test = dcv.train_test_split(\n",
    "    X_dask_encoded_pd, y, test_size=0.3, random_state=42, shuffle=True\n",
    ")"
   ]
  },
  {
   "cell_type": "code",
   "execution_count": 18,
   "metadata": {
    "execution": {
     "iopub.execute_input": "2024-02-05T00:30:21.505505Z",
     "iopub.status.busy": "2024-02-05T00:30:21.505188Z",
     "iopub.status.idle": "2024-02-05T00:30:21.509857Z",
     "shell.execute_reply": "2024-02-05T00:30:21.509057Z",
     "shell.execute_reply.started": "2024-02-05T00:30:21.505470Z"
    },
    "id": "DwerfMfva3SW"
   },
   "outputs": [],
   "source": [
    "del X_dask_encoded"
   ]
  },
  {
   "cell_type": "code",
   "execution_count": 19,
   "metadata": {
    "execution": {
     "iopub.execute_input": "2024-02-05T00:30:21.511841Z",
     "iopub.status.busy": "2024-02-05T00:30:21.511231Z",
     "iopub.status.idle": "2024-02-05T00:30:21.561088Z",
     "shell.execute_reply": "2024-02-05T00:30:21.560394Z",
     "shell.execute_reply.started": "2024-02-05T00:30:21.511805Z"
    },
    "id": "K_C-tN4KjLrI"
   },
   "outputs": [],
   "source": [
    "from imblearn.over_sampling import RandomOverSampler\n",
    "\n",
    "ros = RandomOverSampler(random_state=42)\n",
    "X_train, y_train = ros.fit_resample(X_train, y_train)"
   ]
  },
  {
   "cell_type": "code",
   "execution_count": 20,
   "metadata": {
    "colab": {
     "base_uri": "https://localhost:8080/"
    },
    "execution": {
     "iopub.execute_input": "2024-02-05T00:30:21.562853Z",
     "iopub.status.busy": "2024-02-05T00:30:21.562129Z",
     "iopub.status.idle": "2024-02-05T00:30:21.570732Z",
     "shell.execute_reply": "2024-02-05T00:30:21.569812Z",
     "shell.execute_reply.started": "2024-02-05T00:30:21.562813Z"
    },
    "id": "8mrygvENjeJN",
    "outputId": "9f5d9bae-4f30-4af2-e6b5-a8c5a5e8896a"
   },
   "outputs": [
    {
     "name": "stdout",
     "output_type": "stream",
     "text": [
      "Топ признаков по убыванию корреляции с is_fclick\n",
      "             fc_imp_chk  fc_time_chk     utmtr    mm_dma  is_fclick\n",
      "is_fclick      0.182984     0.200295  0.014849  0.000213   1.000000\n",
      "fc_time_chk    0.854737     1.000000  0.003409  0.012002   0.200295\n",
      "fc_imp_chk     1.000000     0.854737  0.018547  0.048873   0.182984\n",
      "utmtr          0.018547     0.003409  1.000000  0.010896   0.014849\n",
      "mm_dma         0.048873     0.012002  0.010896  1.000000   0.000213\n"
     ]
    }
   ],
   "source": [
    "# Сортировка признаков по убыванию корреляции\n",
    "sorted_correlations = correlation_matrix.abs().sort_values(\n",
    "    by=\"is_fclick\", ascending=True\n",
    ")\n",
    "\n",
    "# Выведите результаты\n",
    "print(\"Топ признаков по убыванию корреляции с\", \"is_fclick\")\n",
    "print(sorted_correlations.iloc[::-1])"
   ]
  },
  {
   "cell_type": "markdown",
   "metadata": {
    "id": "NwT7wpJxh8zZ"
   },
   "source": [
    "## Catboost"
   ]
  },
  {
   "cell_type": "code",
   "execution_count": 21,
   "metadata": {
    "colab": {
     "base_uri": "https://localhost:8080/"
    },
    "execution": {
     "iopub.execute_input": "2024-02-05T00:30:21.572212Z",
     "iopub.status.busy": "2024-02-05T00:30:21.571729Z",
     "iopub.status.idle": "2024-02-05T00:31:13.206858Z",
     "shell.execute_reply": "2024-02-05T00:31:13.205952Z",
     "shell.execute_reply.started": "2024-02-05T00:30:21.572185Z"
    },
    "id": "ejIiAKI8h71u",
    "outputId": "b4f4c783-f54c-4087-d7d8-42d14c38c944",
    "tags": []
   },
   "outputs": [
    {
     "name": "stdout",
     "output_type": "stream",
     "text": [
      "0:\tlearn: 0.6736777\ttotal: 49.8ms\tremaining: 12m 26s\n",
      "1000:\tlearn: 0.4540533\ttotal: 3.49s\tremaining: 48.8s\n",
      "2000:\tlearn: 0.4211726\ttotal: 6.93s\tremaining: 45s\n",
      "3000:\tlearn: 0.4026531\ttotal: 10.4s\tremaining: 41.4s\n",
      "4000:\tlearn: 0.3907851\ttotal: 13.8s\tremaining: 38s\n",
      "5000:\tlearn: 0.3826584\ttotal: 17.2s\tremaining: 34.5s\n",
      "6000:\tlearn: 0.3766741\ttotal: 20.7s\tremaining: 31s\n",
      "7000:\tlearn: 0.3721743\ttotal: 24.2s\tremaining: 27.6s\n",
      "8000:\tlearn: 0.3686076\ttotal: 27.6s\tremaining: 24.1s\n",
      "9000:\tlearn: 0.3658672\ttotal: 30.9s\tremaining: 20.6s\n",
      "10000:\tlearn: 0.3636362\ttotal: 34.3s\tremaining: 17.1s\n",
      "11000:\tlearn: 0.3618490\ttotal: 37.6s\tremaining: 13.7s\n",
      "12000:\tlearn: 0.3604089\ttotal: 40.8s\tremaining: 10.2s\n",
      "13000:\tlearn: 0.3591823\ttotal: 44.1s\tremaining: 6.79s\n",
      "14000:\tlearn: 0.3581797\ttotal: 47.3s\tremaining: 3.38s\n",
      "14999:\tlearn: 0.3572686\ttotal: 50.4s\tremaining: 0us\n",
      "Accuracy: 0.6012402264761392\n"
     ]
    }
   ],
   "source": [
    "import pandas as pd\n",
    "from catboost import CatBoostClassifier\n",
    "from sklearn.metrics import accuracy_score\n",
    "from sklearn.model_selection import train_test_split\n",
    "\n",
    "# Initialize CatBoostClassifier\n",
    "model = CatBoostClassifier(\n",
    "    iterations=15000, learning_rate=0.1, depth=6, loss_function=\"Logloss\", verbose=1000\n",
    ")\n",
    "\n",
    "# Fit model\n",
    "model.fit(X_train, y_train)\n",
    "\n",
    "# Make predictions\n",
    "predictions = model.predict(X_test)\n",
    "\n",
    "# Calculate accuracy\n",
    "accuracy = accuracy_score(y_test, predictions)\n",
    "print(f\"Accuracy: {accuracy}\")\n",
    "\n",
    "# Save model\n",
    "model.save_model(\"catboost_classifier.model\")"
   ]
  },
  {
   "cell_type": "code",
   "execution_count": 22,
   "metadata": {
    "colab": {
     "base_uri": "https://localhost:8080/"
    },
    "execution": {
     "iopub.execute_input": "2024-02-05T00:31:13.208329Z",
     "iopub.status.busy": "2024-02-05T00:31:13.207998Z",
     "iopub.status.idle": "2024-02-05T00:31:13.227460Z",
     "shell.execute_reply": "2024-02-05T00:31:13.226672Z",
     "shell.execute_reply.started": "2024-02-05T00:31:13.208302Z"
    },
    "id": "h_z_3r2FinOA",
    "outputId": "39e30183-e012-44c0-f796-c671c2721bcc",
    "tags": []
   },
   "outputs": [
    {
     "name": "stdout",
     "output_type": "stream",
     "text": [
      "              precision    recall  f1-score   support\n",
      "\n",
      "           0       0.75      0.65      0.69      2596\n",
      "           1       0.38      0.50      0.43      1113\n",
      "\n",
      "    accuracy                           0.60      3709\n",
      "   macro avg       0.56      0.57      0.56      3709\n",
      "weighted avg       0.64      0.60      0.61      3709\n",
      "\n"
     ]
    }
   ],
   "source": [
    "from sklearn.metrics import classification_report\n",
    "\n",
    "report = classification_report(y_test, predictions)\n",
    "print(report)"
   ]
  },
  {
   "cell_type": "markdown",
   "metadata": {
    "id": "ePMIb9Zsc9KQ"
   },
   "source": [
    "# Let's try AutoKeras"
   ]
  },
  {
   "cell_type": "code",
   "execution_count": 23,
   "metadata": {
    "colab": {
     "base_uri": "https://localhost:8080/"
    },
    "execution": {
     "iopub.execute_input": "2024-02-05T00:31:13.228716Z",
     "iopub.status.busy": "2024-02-05T00:31:13.228427Z",
     "iopub.status.idle": "2024-02-05T00:32:38.805969Z",
     "shell.execute_reply": "2024-02-05T00:32:38.805146Z",
     "shell.execute_reply.started": "2024-02-05T00:31:13.228691Z"
    },
    "id": "0FuwA8Xqcc2U",
    "outputId": "59e866ad-f85a-496b-a98b-e3dfcc61f70c",
    "tags": []
   },
   "outputs": [
    {
     "name": "stdout",
     "output_type": "stream",
     "text": [
      "Using TensorFlow backend\n",
      "Reloading Tuner from ./structured_data_classifier/tuner0.json\n"
     ]
    },
    {
     "name": "stderr",
     "output_type": "stream",
     "text": [
      "2024-02-05 00:31:13.802752: I external/local_xla/xla/stream_executor/cuda/cuda_executor.cc:901] successful NUMA node read from SysFS had negative value (-1), but there must be at least one NUMA node, so returning NUMA node zero. See more at https://github.com/torvalds/linux/blob/v6.0/Documentation/ABI/testing/sysfs-bus-pci#L344-L355\n",
      "2024-02-05 00:31:13.804328: I external/local_xla/xla/stream_executor/cuda/cuda_executor.cc:901] successful NUMA node read from SysFS had negative value (-1), but there must be at least one NUMA node, so returning NUMA node zero. See more at https://github.com/torvalds/linux/blob/v6.0/Documentation/ABI/testing/sysfs-bus-pci#L344-L355\n",
      "2024-02-05 00:31:13.805510: I external/local_xla/xla/stream_executor/cuda/cuda_executor.cc:901] successful NUMA node read from SysFS had negative value (-1), but there must be at least one NUMA node, so returning NUMA node zero. See more at https://github.com/torvalds/linux/blob/v6.0/Documentation/ABI/testing/sysfs-bus-pci#L344-L355\n",
      "2024-02-05 00:31:13.952757: I external/local_xla/xla/stream_executor/cuda/cuda_executor.cc:901] successful NUMA node read from SysFS had negative value (-1), but there must be at least one NUMA node, so returning NUMA node zero. See more at https://github.com/torvalds/linux/blob/v6.0/Documentation/ABI/testing/sysfs-bus-pci#L344-L355\n",
      "2024-02-05 00:31:13.954023: I external/local_xla/xla/stream_executor/cuda/cuda_executor.cc:901] successful NUMA node read from SysFS had negative value (-1), but there must be at least one NUMA node, so returning NUMA node zero. See more at https://github.com/torvalds/linux/blob/v6.0/Documentation/ABI/testing/sysfs-bus-pci#L344-L355\n",
      "2024-02-05 00:31:13.955187: I external/local_xla/xla/stream_executor/cuda/cuda_executor.cc:901] successful NUMA node read from SysFS had negative value (-1), but there must be at least one NUMA node, so returning NUMA node zero. See more at https://github.com/torvalds/linux/blob/v6.0/Documentation/ABI/testing/sysfs-bus-pci#L344-L355\n",
      "2024-02-05 00:31:13.956250: I tensorflow/core/common_runtime/gpu/gpu_device.cc:1929] Created device /job:localhost/replica:0/task:0/device:GPU:0 with 13647 MB memory:  -> device: 0, name: Tesla T4, pci bus id: 0000:00:1e.0, compute capability: 7.5\n",
      "2024-02-05 00:31:22.983317: I external/local_tsl/tsl/platform/default/subprocess.cc:304] Start cannot spawn child process: No such file or directory\n"
     ]
    },
    {
     "name": "stdout",
     "output_type": "stream",
     "text": [
      "Epoch 1/50\n"
     ]
    },
    {
     "name": "stderr",
     "output_type": "stream",
     "text": [
      "2024-02-05 00:31:26.544914: I external/local_xla/xla/service/service.cc:168] XLA service 0x7f51e842ad50 initialized for platform CUDA (this does not guarantee that XLA will be used). Devices:\n",
      "2024-02-05 00:31:26.544953: I external/local_xla/xla/service/service.cc:176]   StreamExecutor device (0): Tesla T4, Compute Capability 7.5\n",
      "2024-02-05 00:31:26.551281: I tensorflow/compiler/mlir/tensorflow/utils/dump_mlir_util.cc:269] disabling MLIR crash reproducer, set env var `MLIR_CRASH_REPRODUCER_DIRECTORY` to enable.\n",
      "2024-02-05 00:31:26.571673: I external/local_xla/xla/stream_executor/cuda/cuda_dnn.cc:454] Loaded cuDNN version 8904\n",
      "WARNING: All log messages before absl::InitializeLog() is called are written to STDERR\n",
      "I0000 00:00:1707093086.658575   39612 device_compiler.h:186] Compiled cluster using XLA!  This line is logged at most once for the lifetime of the process.\n"
     ]
    },
    {
     "name": "stdout",
     "output_type": "stream",
     "text": [
      "375/375 [==============================] - 4s 4ms/step - loss: 0.4368 - accuracy: 0.7796\n",
      "Epoch 2/50\n",
      "375/375 [==============================] - 1s 4ms/step - loss: 0.5744 - accuracy: 0.7430\n",
      "Epoch 3/50\n",
      "375/375 [==============================] - 1s 3ms/step - loss: 0.5524 - accuracy: 0.7330\n",
      "Epoch 4/50\n",
      "375/375 [==============================] - 1s 4ms/step - loss: 0.5824 - accuracy: 0.7210\n",
      "Epoch 5/50\n",
      "375/375 [==============================] - 1s 4ms/step - loss: 0.5540 - accuracy: 0.7194\n",
      "Epoch 6/50\n",
      "375/375 [==============================] - 1s 4ms/step - loss: 0.5550 - accuracy: 0.7171\n",
      "Epoch 7/50\n",
      "375/375 [==============================] - 1s 4ms/step - loss: 0.5519 - accuracy: 0.7154\n",
      "Epoch 8/50\n",
      "375/375 [==============================] - 1s 4ms/step - loss: 0.5516 - accuracy: 0.7162\n",
      "Epoch 9/50\n",
      "375/375 [==============================] - 1s 4ms/step - loss: 0.5499 - accuracy: 0.7165\n",
      "Epoch 10/50\n",
      "375/375 [==============================] - 1s 4ms/step - loss: 0.5293 - accuracy: 0.7292\n",
      "Epoch 11/50\n",
      "375/375 [==============================] - 1s 3ms/step - loss: 0.5467 - accuracy: 0.7259\n",
      "Epoch 12/50\n",
      "375/375 [==============================] - 1s 4ms/step - loss: 0.5436 - accuracy: 0.7330\n",
      "Epoch 13/50\n",
      "375/375 [==============================] - 1s 4ms/step - loss: 0.5577 - accuracy: 0.7118\n",
      "Epoch 14/50\n",
      "375/375 [==============================] - 1s 4ms/step - loss: 0.5510 - accuracy: 0.7150\n",
      "Epoch 15/50\n",
      "375/375 [==============================] - 1s 4ms/step - loss: 0.5392 - accuracy: 0.7180\n",
      "Epoch 16/50\n",
      "375/375 [==============================] - 1s 4ms/step - loss: 0.5720 - accuracy: 0.7226\n",
      "Epoch 17/50\n",
      "375/375 [==============================] - 1s 4ms/step - loss: 0.5532 - accuracy: 0.7158\n",
      "Epoch 18/50\n",
      "375/375 [==============================] - 1s 4ms/step - loss: 0.5562 - accuracy: 0.7112\n",
      "Epoch 19/50\n",
      "375/375 [==============================] - 1s 4ms/step - loss: 0.5551 - accuracy: 0.7141\n",
      "Epoch 20/50\n",
      "375/375 [==============================] - 1s 4ms/step - loss: 0.5534 - accuracy: 0.7168\n",
      "Epoch 21/50\n",
      "375/375 [==============================] - 1s 4ms/step - loss: 0.5521 - accuracy: 0.7159\n",
      "Epoch 22/50\n",
      "375/375 [==============================] - 1s 4ms/step - loss: 0.5524 - accuracy: 0.7181\n",
      "Epoch 23/50\n",
      "375/375 [==============================] - 1s 4ms/step - loss: 0.5501 - accuracy: 0.7187\n",
      "Epoch 24/50\n",
      "375/375 [==============================] - 1s 4ms/step - loss: 0.5363 - accuracy: 0.7280\n",
      "Epoch 25/50\n",
      "375/375 [==============================] - 1s 4ms/step - loss: 0.5449 - accuracy: 0.7211\n",
      "Epoch 26/50\n",
      "375/375 [==============================] - 1s 4ms/step - loss: 0.5461 - accuracy: 0.7178\n",
      "Epoch 27/50\n",
      "375/375 [==============================] - 1s 4ms/step - loss: 0.5448 - accuracy: 0.7209\n",
      "Epoch 28/50\n",
      "375/375 [==============================] - 1s 4ms/step - loss: 0.5432 - accuracy: 0.7224\n",
      "Epoch 29/50\n",
      "375/375 [==============================] - 1s 4ms/step - loss: 0.5435 - accuracy: 0.7229\n",
      "Epoch 30/50\n",
      "375/375 [==============================] - 1s 4ms/step - loss: 0.5431 - accuracy: 0.7225\n",
      "Epoch 31/50\n",
      "375/375 [==============================] - 1s 4ms/step - loss: 0.5442 - accuracy: 0.7230\n",
      "Epoch 32/50\n",
      "375/375 [==============================] - 1s 4ms/step - loss: 0.5442 - accuracy: 0.7224\n",
      "Epoch 33/50\n",
      "375/375 [==============================] - 1s 4ms/step - loss: 0.5431 - accuracy: 0.7258\n",
      "Epoch 34/50\n",
      "375/375 [==============================] - 1s 4ms/step - loss: 0.5441 - accuracy: 0.7174\n",
      "Epoch 35/50\n",
      "375/375 [==============================] - 1s 4ms/step - loss: 0.5405 - accuracy: 0.7262\n",
      "Epoch 36/50\n",
      "375/375 [==============================] - 1s 4ms/step - loss: 0.5412 - accuracy: 0.7266\n",
      "Epoch 37/50\n",
      "375/375 [==============================] - 1s 4ms/step - loss: 0.5427 - accuracy: 0.7266\n",
      "Epoch 38/50\n",
      "375/375 [==============================] - 1s 4ms/step - loss: 0.5423 - accuracy: 0.7270\n",
      "Epoch 39/50\n",
      "375/375 [==============================] - 1s 4ms/step - loss: 0.5392 - accuracy: 0.7270\n",
      "Epoch 40/50\n",
      "375/375 [==============================] - 1s 4ms/step - loss: 0.5422 - accuracy: 0.7232\n",
      "Epoch 41/50\n",
      "375/375 [==============================] - 1s 4ms/step - loss: 0.5409 - accuracy: 0.7274\n",
      "Epoch 42/50\n",
      "375/375 [==============================] - 1s 4ms/step - loss: 0.5418 - accuracy: 0.7282\n",
      "Epoch 43/50\n",
      "375/375 [==============================] - 1s 4ms/step - loss: 0.5415 - accuracy: 0.7280\n",
      "Epoch 44/50\n",
      "375/375 [==============================] - 1s 4ms/step - loss: 0.5408 - accuracy: 0.7287\n",
      "Epoch 45/50\n",
      "375/375 [==============================] - 1s 4ms/step - loss: 0.5421 - accuracy: 0.7282\n",
      "Epoch 46/50\n",
      "375/375 [==============================] - 1s 4ms/step - loss: 0.5136 - accuracy: 0.7346\n",
      "Epoch 47/50\n",
      "375/375 [==============================] - 1s 4ms/step - loss: 0.5437 - accuracy: 0.7284\n",
      "Epoch 48/50\n",
      "375/375 [==============================] - 1s 4ms/step - loss: 0.5350 - accuracy: 0.7307\n",
      "Epoch 49/50\n",
      "375/375 [==============================] - 1s 4ms/step - loss: 0.5370 - accuracy: 0.7301\n",
      "Epoch 50/50\n",
      "375/375 [==============================] - 1s 4ms/step - loss: 0.5351 - accuracy: 0.7322\n",
      "INFO:tensorflow:Assets written to: ./structured_data_classifier/best_model/assets\n"
     ]
    },
    {
     "name": "stderr",
     "output_type": "stream",
     "text": [
      "INFO:tensorflow:Assets written to: ./structured_data_classifier/best_model/assets\n"
     ]
    },
    {
     "data": {
      "text/plain": [
       "<keras.src.callbacks.History at 0x7f524935bd60>"
      ]
     },
     "execution_count": 23,
     "metadata": {},
     "output_type": "execute_result"
    }
   ],
   "source": [
    "from tensorflow.keras.metrics import AUC, Precision, Recall\n",
    "\n",
    "import autokeras as ak\n",
    "\n",
    "clf = ak.StructuredDataClassifier(max_trials=30)\n",
    "\n",
    "\n",
    "clf.fit(X_train, y_train, epochs=50)"
   ]
  },
  {
   "cell_type": "code",
   "execution_count": 24,
   "metadata": {
    "execution": {
     "iopub.execute_input": "2024-02-05T00:32:38.807461Z",
     "iopub.status.busy": "2024-02-05T00:32:38.807041Z",
     "iopub.status.idle": "2024-02-05T00:32:41.191228Z",
     "shell.execute_reply": "2024-02-05T00:32:41.190460Z",
     "shell.execute_reply.started": "2024-02-05T00:32:38.807435Z"
    },
    "id": "dtLq4wt7j_pw",
    "tags": []
   },
   "outputs": [
    {
     "name": "stdout",
     "output_type": "stream",
     "text": [
      "116/116 [==============================] - 0s 2ms/step\n",
      "116/116 [==============================] - 0s 2ms/step\n",
      "              precision    recall  f1-score   support\n",
      "\n",
      "           0       0.92      0.16      0.27      2596\n",
      "           1       0.33      0.97      0.49      1113\n",
      "\n",
      "    accuracy                           0.40      3709\n",
      "   macro avg       0.63      0.56      0.38      3709\n",
      "weighted avg       0.74      0.40      0.34      3709\n",
      "\n"
     ]
    }
   ],
   "source": [
    "predictions = clf.predict(X_test)\n",
    "report = classification_report(y_test, predictions)\n",
    "print(report)"
   ]
  },
  {
   "cell_type": "code",
   "execution_count": 25,
   "metadata": {
    "execution": {
     "iopub.execute_input": "2024-02-05T00:32:41.193051Z",
     "iopub.status.busy": "2024-02-05T00:32:41.192552Z",
     "iopub.status.idle": "2024-02-05T00:32:44.570275Z",
     "shell.execute_reply": "2024-02-05T00:32:44.569382Z",
     "shell.execute_reply.started": "2024-02-05T00:32:41.193010Z"
    },
    "tags": []
   },
   "outputs": [
    {
     "name": "stdout",
     "output_type": "stream",
     "text": [
      "INFO:tensorflow:Assets written to: model_autokeras/assets\n"
     ]
    },
    {
     "name": "stderr",
     "output_type": "stream",
     "text": [
      "INFO:tensorflow:Assets written to: model_autokeras/assets\n"
     ]
    }
   ],
   "source": [
    "model = clf.export_model()\n",
    "model.save(\"model_autokeras\", save_format=\"tf\")"
   ]
  },
  {
   "cell_type": "code",
   "execution_count": null,
   "metadata": {},
   "outputs": [],
   "source": []
  }
 ],
 "metadata": {
  "accelerator": "GPU",
  "colab": {
   "gpuType": "T4",
   "provenance": []
  },
  "kernelspec": {
   "display_name": "saturn (Python 3)",
   "language": "python",
   "name": "python3"
  },
  "language_info": {
   "codemirror_mode": {
    "name": "ipython",
    "version": 3
   },
   "file_extension": ".py",
   "mimetype": "text/x-python",
   "name": "python",
   "nbconvert_exporter": "python",
   "pygments_lexer": "ipython3",
   "version": "3.10.13"
  }
 },
 "nbformat": 4,
 "nbformat_minor": 4
}
